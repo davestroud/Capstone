{
 "cells": [
  {
   "cell_type": "markdown",
   "metadata": {},
   "source": [
    "https://www.kaggle.com/pablocastilla/predict-stock-prices-with-lstm"
   ]
  },
  {
   "cell_type": "code",
   "execution_count": 52,
   "metadata": {},
   "outputs": [],
   "source": [
    "import numpy as np # linear algebra\n",
    "import pandas as pd # data processing, CSV file I/O (e.g. pd.read_csv)\n",
    "\n",
    "from subprocess import check_output\n",
    "from keras.layers.core import Dense, Activation, Dropout\n",
    "from keras.layers.recurrent import LSTM\n",
    "from keras.models import Sequential\n",
    "from sklearn.model_selection import  train_test_split\n",
    "import time #helper libraries\n",
    "from sklearn.preprocessing import MinMaxScaler\n",
    "import matplotlib.pyplot as plt\n",
    "from numpy import newaxis"
   ]
  },
  {
   "cell_type": "code",
   "execution_count": 54,
   "metadata": {},
   "outputs": [
    {
     "data": {
      "text/html": [
       "<div>\n",
       "<style scoped>\n",
       "    .dataframe tbody tr th:only-of-type {\n",
       "        vertical-align: middle;\n",
       "    }\n",
       "\n",
       "    .dataframe tbody tr th {\n",
       "        vertical-align: top;\n",
       "    }\n",
       "\n",
       "    .dataframe thead th {\n",
       "        text-align: right;\n",
       "    }\n",
       "</style>\n",
       "<table border=\"1\" class=\"dataframe\">\n",
       "  <thead>\n",
       "    <tr style=\"text-align: right;\">\n",
       "      <th></th>\n",
       "      <th>InstanceType</th>\n",
       "      <th>Zone</th>\n",
       "      <th>Timestamp</th>\n",
       "      <th>AvailabilityZone</th>\n",
       "      <th>Price_Linux/UNIX</th>\n",
       "      <th>Memory</th>\n",
       "      <th>vCPUs</th>\n",
       "      <th>GPUs</th>\n",
       "      <th>Cost_linux_ondemand</th>\n",
       "      <th>Cost_linux_reserved</th>\n",
       "    </tr>\n",
       "  </thead>\n",
       "  <tbody>\n",
       "    <tr>\n",
       "      <th>0</th>\n",
       "      <td>r5ad.4xlarge</td>\n",
       "      <td>us-east-1</td>\n",
       "      <td>2019-03-30 22:00:03</td>\n",
       "      <td>us-east-1f</td>\n",
       "      <td>0.285</td>\n",
       "      <td>128.0</td>\n",
       "      <td>16</td>\n",
       "      <td>0</td>\n",
       "      <td>1.048</td>\n",
       "      <td>0.664</td>\n",
       "    </tr>\n",
       "    <tr>\n",
       "      <th>1</th>\n",
       "      <td>m5d.4xlarge</td>\n",
       "      <td>us-east-1</td>\n",
       "      <td>2019-03-30 22:00:55</td>\n",
       "      <td>us-east-1a</td>\n",
       "      <td>NaN</td>\n",
       "      <td>64.0</td>\n",
       "      <td>16</td>\n",
       "      <td>0</td>\n",
       "      <td>0.904</td>\n",
       "      <td>0.576</td>\n",
       "    </tr>\n",
       "    <tr>\n",
       "      <th>2</th>\n",
       "      <td>m5d.4xlarge</td>\n",
       "      <td>us-east-1</td>\n",
       "      <td>2019-03-30 22:00:55</td>\n",
       "      <td>us-east-1b</td>\n",
       "      <td>NaN</td>\n",
       "      <td>64.0</td>\n",
       "      <td>16</td>\n",
       "      <td>0</td>\n",
       "      <td>0.904</td>\n",
       "      <td>0.576</td>\n",
       "    </tr>\n",
       "    <tr>\n",
       "      <th>3</th>\n",
       "      <td>m5d.4xlarge</td>\n",
       "      <td>us-east-1</td>\n",
       "      <td>2019-03-30 22:00:55</td>\n",
       "      <td>us-east-1c</td>\n",
       "      <td>NaN</td>\n",
       "      <td>64.0</td>\n",
       "      <td>16</td>\n",
       "      <td>0</td>\n",
       "      <td>0.904</td>\n",
       "      <td>0.576</td>\n",
       "    </tr>\n",
       "    <tr>\n",
       "      <th>4</th>\n",
       "      <td>m5d.4xlarge</td>\n",
       "      <td>us-east-1</td>\n",
       "      <td>2019-03-30 22:00:55</td>\n",
       "      <td>us-east-1d</td>\n",
       "      <td>NaN</td>\n",
       "      <td>64.0</td>\n",
       "      <td>16</td>\n",
       "      <td>0</td>\n",
       "      <td>0.904</td>\n",
       "      <td>0.576</td>\n",
       "    </tr>\n",
       "  </tbody>\n",
       "</table>\n",
       "</div>"
      ],
      "text/plain": [
       "   InstanceType       Zone            Timestamp AvailabilityZone  \\\n",
       "0  r5ad.4xlarge  us-east-1  2019-03-30 22:00:03       us-east-1f   \n",
       "1   m5d.4xlarge  us-east-1  2019-03-30 22:00:55       us-east-1a   \n",
       "2   m5d.4xlarge  us-east-1  2019-03-30 22:00:55       us-east-1b   \n",
       "3   m5d.4xlarge  us-east-1  2019-03-30 22:00:55       us-east-1c   \n",
       "4   m5d.4xlarge  us-east-1  2019-03-30 22:00:55       us-east-1d   \n",
       "\n",
       "   Price_Linux/UNIX  Memory  vCPUs  GPUs  Cost_linux_ondemand  \\\n",
       "0             0.285   128.0     16     0                1.048   \n",
       "1               NaN    64.0     16     0                0.904   \n",
       "2               NaN    64.0     16     0                0.904   \n",
       "3               NaN    64.0     16     0                0.904   \n",
       "4               NaN    64.0     16     0                0.904   \n",
       "\n",
       "   Cost_linux_reserved  \n",
       "0                0.664  \n",
       "1                0.576  \n",
       "2                0.576  \n",
       "3                0.576  \n",
       "4                0.576  "
      ]
     },
     "execution_count": 54,
     "metadata": {},
     "output_type": "execute_result"
    }
   ],
   "source": [
    "prices_dataset =  pd.read_csv('linux_data_clean.csv', header=0)\n",
    "prices_dataset.head()"
   ]
  },
  {
   "cell_type": "code",
   "execution_count": 60,
   "metadata": {},
   "outputs": [
    {
     "data": {
      "text/plain": [
       "Index(['InstanceType', 'Zone', 'Timestamp', 'AvailabilityZone',\n",
       "       'Price_Linux/UNIX', 'Memory', 'vCPUs', 'GPUs', 'Cost_linux_ondemand',\n",
       "       'Cost_linux_reserved'],\n",
       "      dtype='object')"
      ]
     },
     "execution_count": 60,
     "metadata": {},
     "output_type": "execute_result"
    }
   ],
   "source": [
    "prices_dataset.columns"
   ]
  },
  {
   "cell_type": "code",
   "execution_count": 67,
   "metadata": {},
   "outputs": [],
   "source": [
    "prices_dataset_1 = prices_dataset[['InstanceType', 'Zone', 'Timestamp', 'AvailabilityZone',\n",
    "                                   'Price_Linux/UNIX', 'Memory', 'vCPUs', 'GPUs', 'Cost_linux_ondemand',\n",
    "                                   'Cost_linux_reserved']].drop_duplicates()"
   ]
  },
  {
   "cell_type": "code",
   "execution_count": 73,
   "metadata": {},
   "outputs": [],
   "source": [
    "# prices_dataset_1[prices_dataset_1.duplicated(subset=['Timestamp'])].sort_values(by=['Timestamp','InstanceType'])"
   ]
  },
  {
   "cell_type": "code",
   "execution_count": 72,
   "metadata": {},
   "outputs": [],
   "source": [
    "# yahoo = prices_dataset[prices_dataset['InstanceType']=='m5.metal']\n",
    "# yahoo_stock_prices = yahoo.close.values.astype('float32')\n",
    "# yahoo_stock_prices = yahoo_stock_prices.reshape(1762, 1)\n",
    "# yahoo_stock_prices.shape"
   ]
  },
  {
   "cell_type": "code",
   "execution_count": null,
   "metadata": {},
   "outputs": [],
   "source": []
  }
 ],
 "metadata": {
  "kernelspec": {
   "display_name": "Python 3",
   "language": "python",
   "name": "python3"
  },
  "language_info": {
   "codemirror_mode": {
    "name": "ipython",
    "version": 3
   },
   "file_extension": ".py",
   "mimetype": "text/x-python",
   "name": "python",
   "nbconvert_exporter": "python",
   "pygments_lexer": "ipython3",
   "version": "3.7.3"
  }
 },
 "nbformat": 4,
 "nbformat_minor": 2
}
