{
 "cells": [
  {
   "cell_type": "markdown",
   "metadata": {},
   "source": [
    "# Features only copy"
   ]
  },
  {
   "cell_type": "code",
   "execution_count": 2,
   "metadata": {},
   "outputs": [
    {
     "name": "stderr",
     "output_type": "stream",
     "text": [
      "Using TensorFlow backend.\n"
     ]
    }
   ],
   "source": [
    "import pandas as pd\n",
    "import numpy as np\n",
    "\n",
    "\n",
    "from io import StringIO\n",
    "import requests\n",
    "import matplotlib.pyplot as plt\n",
    "from datetime import datetime\n",
    "\n",
    "import warnings\n",
    "warnings.simplefilter('ignore')\n",
    "\n",
    "\n",
    "from math import sqrt\n",
    "from numpy import concatenate\n",
    "from matplotlib import pyplot\n",
    "from sklearn.preprocessing import MinMaxScaler\n",
    "from sklearn.preprocessing import LabelEncoder\n",
    "from sklearn.metrics import mean_squared_error\n",
    "from keras.models import Sequential\n",
    "from keras.layers import Dense\n",
    "from keras.layers import LSTM"
   ]
  },
  {
   "cell_type": "markdown",
   "metadata": {},
   "source": [
    "### instance_commname\n",
    "\n",
    "- us-east-1\t  US East (N. Virginia)\n",
    "- us-east-2   US East (Ohio)\n",
    "- us-west-1\t  US West (N. California)\n",
    "- us-west-2\t  US West (Oregon)"
   ]
  },
  {
   "cell_type": "code",
   "execution_count": 3,
   "metadata": {},
   "outputs": [],
   "source": [
    "path_feat = r'/Users/Yejur/Documents/GitHub/Capstone/Data_feat'"
   ]
  },
  {
   "cell_type": "code",
   "execution_count": 4,
   "metadata": {},
   "outputs": [],
   "source": [
    "uswest_ore_west2 = pd.read_csv(path_feat + '/Amazon EC2 Instance Comparison_WEST_OREGAN.csv', low_memory=False)\n",
    "uswest_cal_west1 = pd.read_csv(path_feat + '/Amazon EC2 Instance Comparison_WEST_NCALI.csv', low_memory=False)\n",
    "useast_ohi_east2 = pd.read_csv(path_feat + '/Amazon EC2 Instance Comparison_EAST_OHIO.csv', low_memory=False)\n",
    "useast_vir_east1 = pd.read_csv(path_feat + '/Amazon EC2 Instance Comparison_EAST_NVIRGINIA.csv', low_memory=False)"
   ]
  },
  {
   "cell_type": "code",
   "execution_count": 5,
   "metadata": {},
   "outputs": [],
   "source": [
    "uswest_ore_west2['AvailabilityZone'] = 'us-west-2'\n",
    "uswest_cal_west1['AvailabilityZone'] = 'us-west-1'\n",
    "useast_ohi_east2['AvailabilityZone'] = 'us-east-2'\n",
    "useast_vir_east1['AvailabilityZone'] = 'us-east-1'"
   ]
  },
  {
   "cell_type": "code",
   "execution_count": 6,
   "metadata": {},
   "outputs": [
    {
     "name": "stdout",
     "output_type": "stream",
     "text": [
      "(200, 53)\n",
      "(200, 53)\n",
      "(200, 53)\n",
      "(200, 53)\n"
     ]
    }
   ],
   "source": [
    "print(uswest_ore_west2.shape)\n",
    "print(uswest_cal_west1.shape)\n",
    "print(useast_ohi_east2.shape)\n",
    "print(useast_vir_east1.shape)"
   ]
  },
  {
   "cell_type": "code",
   "execution_count": 7,
   "metadata": {},
   "outputs": [],
   "source": [
    "instances_info_all = pd.concat([uswest_ore_west2,uswest_cal_west1,useast_ohi_east2,useast_vir_east1])"
   ]
  },
  {
   "cell_type": "code",
   "execution_count": 8,
   "metadata": {},
   "outputs": [
    {
     "name": "stdout",
     "output_type": "stream",
     "text": [
      "200\n",
      "(800, 53)\n"
     ]
    }
   ],
   "source": [
    "print(instances_info_all['API Name'].nunique())\n",
    "print(instances_info_all.shape)"
   ]
  },
  {
   "cell_type": "code",
   "execution_count": 9,
   "metadata": {},
   "outputs": [],
   "source": [
    "instances_info = instances_info_all[['AvailabilityZone','API Name', 'Memory', 'vCPUs', 'GPUs',\n",
    "                                     'Linux On Demand cost', 'Linux Reserved cost',  'Windows On Demand cost', \n",
    "                                     'Windows Reserved cost']]"
   ]
  },
  {
   "cell_type": "code",
   "execution_count": 10,
   "metadata": {},
   "outputs": [],
   "source": [
    "instances_info['Memory'] = instances_info['Memory'].str.replace('GiB', '').str.strip()\n",
    "instances_info['vCPUs'] = instances_info['vCPUs'].str[:3].str.replace('v','').str.strip()\n",
    "instances_info['Linux On Demand cost'] = instances_info['Linux On Demand cost'].str.replace('hourly','').str.strip()\n",
    "instances_info['Linux On Demand cost'] = instances_info['Linux On Demand cost'].str.replace('$','').str.strip()\n",
    "instances_info['Linux Reserved cost'] = instances_info['Linux Reserved cost'].str.replace('hourly','').str.strip()\n",
    "instances_info['Linux Reserved cost'] = instances_info['Linux Reserved cost'].str.replace('$','').str.strip()\n",
    "instances_info['Windows On Demand cost'] = instances_info['Windows On Demand cost'].str.replace('hourly','').str.strip()\n",
    "instances_info['Windows On Demand cost'] = instances_info['Windows On Demand cost'].str.replace('$','').str.strip()\n",
    "instances_info['Windows Reserved cost'] = instances_info['Windows Reserved cost'].str.replace('hourly','').str.strip()\n",
    "instances_info['Windows Reserved cost'] = instances_info['Windows Reserved cost'].str.replace('$','').str.strip()"
   ]
  },
  {
   "cell_type": "code",
   "execution_count": 11,
   "metadata": {},
   "outputs": [],
   "source": [
    "instances_info = instances_info.replace('unavailable',np.nan)"
   ]
  },
  {
   "cell_type": "code",
   "execution_count": 12,
   "metadata": {},
   "outputs": [
    {
     "data": {
      "text/html": [
       "<div>\n",
       "<style scoped>\n",
       "    .dataframe tbody tr th:only-of-type {\n",
       "        vertical-align: middle;\n",
       "    }\n",
       "\n",
       "    .dataframe tbody tr th {\n",
       "        vertical-align: top;\n",
       "    }\n",
       "\n",
       "    .dataframe thead th {\n",
       "        text-align: right;\n",
       "    }\n",
       "</style>\n",
       "<table border=\"1\" class=\"dataframe\">\n",
       "  <thead>\n",
       "    <tr style=\"text-align: right;\">\n",
       "      <th></th>\n",
       "      <th>AvailabilityZone</th>\n",
       "      <th>API Name</th>\n",
       "      <th>Memory</th>\n",
       "      <th>vCPUs</th>\n",
       "      <th>GPUs</th>\n",
       "      <th>Linux On Demand cost</th>\n",
       "      <th>Linux Reserved cost</th>\n",
       "      <th>Windows On Demand cost</th>\n",
       "      <th>Windows Reserved cost</th>\n",
       "    </tr>\n",
       "  </thead>\n",
       "  <tbody>\n",
       "    <tr>\n",
       "      <th>0</th>\n",
       "      <td>us-west-2</td>\n",
       "      <td>a1.medium</td>\n",
       "      <td>2.0</td>\n",
       "      <td>1</td>\n",
       "      <td>0</td>\n",
       "      <td>0.025500</td>\n",
       "      <td>0.016100</td>\n",
       "      <td>NaN</td>\n",
       "      <td>NaN</td>\n",
       "    </tr>\n",
       "    <tr>\n",
       "      <th>1</th>\n",
       "      <td>us-west-2</td>\n",
       "      <td>t3a.xlarge</td>\n",
       "      <td>16.0</td>\n",
       "      <td>4</td>\n",
       "      <td>0</td>\n",
       "      <td>0.150400</td>\n",
       "      <td>0.094300</td>\n",
       "      <td>0.224000</td>\n",
       "      <td>0.167900</td>\n",
       "    </tr>\n",
       "    <tr>\n",
       "      <th>2</th>\n",
       "      <td>us-west-2</td>\n",
       "      <td>r4.16xlarge</td>\n",
       "      <td>488.0</td>\n",
       "      <td>64</td>\n",
       "      <td>0</td>\n",
       "      <td>4.256000</td>\n",
       "      <td>2.688000</td>\n",
       "      <td>7.200000</td>\n",
       "      <td>5.632000</td>\n",
       "    </tr>\n",
       "    <tr>\n",
       "      <th>3</th>\n",
       "      <td>us-west-2</td>\n",
       "      <td>t2.large</td>\n",
       "      <td>8.0</td>\n",
       "      <td>2</td>\n",
       "      <td>0</td>\n",
       "      <td>0.092800</td>\n",
       "      <td>0.057500</td>\n",
       "      <td>0.120800</td>\n",
       "      <td>0.085500</td>\n",
       "    </tr>\n",
       "    <tr>\n",
       "      <th>4</th>\n",
       "      <td>us-west-2</td>\n",
       "      <td>m5a.24xlarge</td>\n",
       "      <td>384.0</td>\n",
       "      <td>96</td>\n",
       "      <td>0</td>\n",
       "      <td>4.128000</td>\n",
       "      <td>2.627000</td>\n",
       "      <td>8.544000</td>\n",
       "      <td>7.043000</td>\n",
       "    </tr>\n",
       "  </tbody>\n",
       "</table>\n",
       "</div>"
      ],
      "text/plain": [
       "  AvailabilityZone      API Name Memory vCPUs  GPUs Linux On Demand cost  \\\n",
       "0        us-west-2     a1.medium    2.0     1     0             0.025500   \n",
       "1        us-west-2    t3a.xlarge   16.0     4     0             0.150400   \n",
       "2        us-west-2   r4.16xlarge  488.0    64     0             4.256000   \n",
       "3        us-west-2      t2.large    8.0     2     0             0.092800   \n",
       "4        us-west-2  m5a.24xlarge  384.0    96     0             4.128000   \n",
       "\n",
       "  Linux Reserved cost Windows On Demand cost Windows Reserved cost  \n",
       "0            0.016100                    NaN                   NaN  \n",
       "1            0.094300               0.224000              0.167900  \n",
       "2            2.688000               7.200000              5.632000  \n",
       "3            0.057500               0.120800              0.085500  \n",
       "4            2.627000               8.544000              7.043000  "
      ]
     },
     "execution_count": 12,
     "metadata": {},
     "output_type": "execute_result"
    }
   ],
   "source": [
    "instances_info.head()"
   ]
  },
  {
   "cell_type": "code",
   "execution_count": 13,
   "metadata": {},
   "outputs": [
    {
     "data": {
      "text/html": [
       "<div>\n",
       "<style scoped>\n",
       "    .dataframe tbody tr th:only-of-type {\n",
       "        vertical-align: middle;\n",
       "    }\n",
       "\n",
       "    .dataframe tbody tr th {\n",
       "        vertical-align: top;\n",
       "    }\n",
       "\n",
       "    .dataframe thead th {\n",
       "        text-align: right;\n",
       "    }\n",
       "</style>\n",
       "<table border=\"1\" class=\"dataframe\">\n",
       "  <thead>\n",
       "    <tr style=\"text-align: right;\">\n",
       "      <th></th>\n",
       "      <th>Zone</th>\n",
       "      <th>InstanceType</th>\n",
       "      <th>Memory</th>\n",
       "      <th>vCPUs</th>\n",
       "      <th>GPUs</th>\n",
       "      <th>linux_ondemand</th>\n",
       "      <th>linux_reserved</th>\n",
       "      <th>windows_ondemand</th>\n",
       "      <th>windows_reserved</th>\n",
       "    </tr>\n",
       "  </thead>\n",
       "  <tbody>\n",
       "    <tr>\n",
       "      <th>196</th>\n",
       "      <td>us-east-2</td>\n",
       "      <td>z1d.3xlarge</td>\n",
       "      <td>96.0</td>\n",
       "      <td>12</td>\n",
       "      <td>0</td>\n",
       "      <td>NaN</td>\n",
       "      <td>NaN</td>\n",
       "      <td>NaN</td>\n",
       "      <td>NaN</td>\n",
       "    </tr>\n",
       "    <tr>\n",
       "      <th>68</th>\n",
       "      <td>us-west-1</td>\n",
       "      <td>c5.4xlarge</td>\n",
       "      <td>32.0</td>\n",
       "      <td>16</td>\n",
       "      <td>0</td>\n",
       "      <td>0.848000</td>\n",
       "      <td>0.581000</td>\n",
       "      <td>1.584000</td>\n",
       "      <td>1.317000</td>\n",
       "    </tr>\n",
       "  </tbody>\n",
       "</table>\n",
       "</div>"
      ],
      "text/plain": [
       "          Zone InstanceType Memory vCPUs  GPUs linux_ondemand linux_reserved  \\\n",
       "196  us-east-2  z1d.3xlarge   96.0    12     0            NaN            NaN   \n",
       "68   us-west-1   c5.4xlarge   32.0    16     0       0.848000       0.581000   \n",
       "\n",
       "    windows_ondemand windows_reserved  \n",
       "196              NaN              NaN  \n",
       "68          1.584000         1.317000  "
      ]
     },
     "execution_count": 13,
     "metadata": {},
     "output_type": "execute_result"
    }
   ],
   "source": [
    "ren_columns =['Zone','InstanceType', 'Memory', 'vCPUs', 'GPUs','linux_ondemand', 'linux_reserved', 'windows_ondemand','windows_reserved']\n",
    "instances_info.columns= ren_columns\n",
    "instances_info.sample(2)"
   ]
  },
  {
   "cell_type": "markdown",
   "metadata": {},
   "source": [
    "# DATA"
   ]
  },
  {
   "cell_type": "code",
   "execution_count": 14,
   "metadata": {},
   "outputs": [
    {
     "name": "stderr",
     "output_type": "stream",
     "text": [
      "b'Skipping line 164001: expected 5 fields, saw 9\\n'\n"
     ]
    }
   ],
   "source": [
    "# %time\n",
    "# url=\"https://s3-us-west-2.amazonaws.com/aws-spot-prices/SpotPrices/ap-northeast-1.csv\"\n",
    "# s=requests.get(url).text\n",
    "# nw_data=pd.read_csv(StringIO(s), low_memory=False, header=None)\n",
    "# nw_data.columns = ['Date_Time', 'Instance', 'OS', 'Region', 'Spot_Price']\n",
    "# nw_data.head()\n",
    "unzip_path = r'/Users/Yejur/Documents/GitHub/Capstone/AWS_Spot_Prices' \n",
    "east_1 = pd.read_csv(unzip_path + '/us-east-1.csv', error_bad_lines=False,low_memory=False)\n",
    "east_2 = pd.read_csv(unzip_path + '/us-east-2.csv',error_bad_lines=False,low_memory=False)\n",
    "west_1 = pd.read_csv(unzip_path + '/us-west-1.csv', error_bad_lines=False,low_memory=False)\n",
    "west_2 = pd.read_csv(unzip_path + '/us-west-2.csv', error_bad_lines=False,low_memory=False)"
   ]
  },
  {
   "cell_type": "code",
   "execution_count": 15,
   "metadata": {},
   "outputs": [],
   "source": [
    "west_2['Zone'] = 'us-west-2'\n",
    "west_1['Zone'] = 'us-west-1'\n",
    "east_2['Zone'] = 'us-east-2'\n",
    "east_1['Zone'] = 'us-east-1'"
   ]
  },
  {
   "cell_type": "code",
   "execution_count": 16,
   "metadata": {},
   "outputs": [
    {
     "data": {
      "text/plain": [
       "array(['SUSE Linux', 'Linux/UNIX', 'Windows'], dtype=object)"
      ]
     },
     "execution_count": 16,
     "metadata": {},
     "output_type": "execute_result"
    }
   ],
   "source": [
    "west_2.ProductDescription.unique()"
   ]
  },
  {
   "cell_type": "code",
   "execution_count": 17,
   "metadata": {},
   "outputs": [],
   "source": [
    "main_data = pd.concat([east_1,east_2,west_1,west_2])"
   ]
  },
  {
   "cell_type": "code",
   "execution_count": 18,
   "metadata": {},
   "outputs": [
    {
     "data": {
      "text/plain": [
       "(634013, 6)"
      ]
     },
     "execution_count": 18,
     "metadata": {},
     "output_type": "execute_result"
    }
   ],
   "source": [
    "main_data.shape"
   ]
  },
  {
   "cell_type": "code",
   "execution_count": 19,
   "metadata": {},
   "outputs": [
    {
     "data": {
      "text/html": [
       "<div>\n",
       "<style scoped>\n",
       "    .dataframe tbody tr th:only-of-type {\n",
       "        vertical-align: middle;\n",
       "    }\n",
       "\n",
       "    .dataframe tbody tr th {\n",
       "        vertical-align: top;\n",
       "    }\n",
       "\n",
       "    .dataframe thead th {\n",
       "        text-align: right;\n",
       "    }\n",
       "</style>\n",
       "<table border=\"1\" class=\"dataframe\">\n",
       "  <thead>\n",
       "    <tr style=\"text-align: right;\">\n",
       "      <th></th>\n",
       "      <th>AvailabilityZone</th>\n",
       "      <th>InstanceType</th>\n",
       "      <th>Price</th>\n",
       "      <th>ProductDescription</th>\n",
       "      <th>Timestamp</th>\n",
       "      <th>Zone</th>\n",
       "    </tr>\n",
       "  </thead>\n",
       "  <tbody>\n",
       "    <tr>\n",
       "      <th>185699</th>\n",
       "      <td>us-east-1b</td>\n",
       "      <td>r3.2xlarge</td>\n",
       "      <td>0.2343</td>\n",
       "      <td>SUSE Linux</td>\n",
       "      <td>4/18/19 12:38:40 AM</td>\n",
       "      <td>us-east-1</td>\n",
       "    </tr>\n",
       "    <tr>\n",
       "      <th>110707</th>\n",
       "      <td>us-west-2a</td>\n",
       "      <td>f1.16xlarge</td>\n",
       "      <td>13.2000</td>\n",
       "      <td>Linux/UNIX</td>\n",
       "      <td>4/25/19 1:05:14 PM</td>\n",
       "      <td>us-west-2</td>\n",
       "    </tr>\n",
       "  </tbody>\n",
       "</table>\n",
       "</div>"
      ],
      "text/plain": [
       "       AvailabilityZone InstanceType    Price ProductDescription  \\\n",
       "185699       us-east-1b   r3.2xlarge   0.2343         SUSE Linux   \n",
       "110707       us-west-2a  f1.16xlarge  13.2000         Linux/UNIX   \n",
       "\n",
       "                  Timestamp       Zone  \n",
       "185699  4/18/19 12:38:40 AM  us-east-1  \n",
       "110707   4/25/19 1:05:14 PM  us-west-2  "
      ]
     },
     "execution_count": 19,
     "metadata": {},
     "output_type": "execute_result"
    }
   ],
   "source": [
    "main_data.sample(2)"
   ]
  },
  {
   "cell_type": "markdown",
   "metadata": {},
   "source": [
    "# Combining and merging info with main data"
   ]
  },
  {
   "cell_type": "code",
   "execution_count": 20,
   "metadata": {},
   "outputs": [],
   "source": [
    "main_data_1 = main_data.pivot_table(index= ['Timestamp','AvailabilityZone','InstanceType','Zone'],\n",
    "                                    columns=['ProductDescription'],  values=['Price']).reset_index()"
   ]
  },
  {
   "cell_type": "code",
   "execution_count": 21,
   "metadata": {},
   "outputs": [],
   "source": [
    "main_data_2 = main_data_1.merge(instances_info, how='left', on=['InstanceType','Zone'])"
   ]
  },
  {
   "cell_type": "code",
   "execution_count": 22,
   "metadata": {},
   "outputs": [
    {
     "data": {
      "text/plain": [
       "Index([          'InstanceType',                   'Zone',\n",
       "              ('Timestamp', ''), ('AvailabilityZone', ''),\n",
       "           ('InstanceType', ''),             ('Zone', ''),\n",
       "        ('Price', 'Linux/UNIX'),  ('Price', 'SUSE Linux'),\n",
       "           ('Price', 'Windows'),                 'Memory',\n",
       "                        'vCPUs',                   'GPUs',\n",
       "               'linux_ondemand',         'linux_reserved',\n",
       "             'windows_ondemand',       'windows_reserved'],\n",
       "      dtype='object')"
      ]
     },
     "execution_count": 22,
     "metadata": {},
     "output_type": "execute_result"
    }
   ],
   "source": [
    "main_data_2.columns"
   ]
  },
  {
   "cell_type": "code",
   "execution_count": 23,
   "metadata": {},
   "outputs": [],
   "source": [
    "columns_proper = [ 'InstanceType','Zone','Timestamp','AvailabilityZone','InstanceType_1', 'Zone_1','Price_Linux/UNIX', 'Price_SUSE Linux',\n",
    "                  'Price_Windows', 'Memory','vCPUs', 'GPUs','Cost_linux_ondemand','Cost_linux_reserved','Cost_windows_ondemand',\n",
    "                  'Cost_windows_reserved']"
   ]
  },
  {
   "cell_type": "code",
   "execution_count": 24,
   "metadata": {},
   "outputs": [
    {
     "data": {
      "text/html": [
       "<div>\n",
       "<style scoped>\n",
       "    .dataframe tbody tr th:only-of-type {\n",
       "        vertical-align: middle;\n",
       "    }\n",
       "\n",
       "    .dataframe tbody tr th {\n",
       "        vertical-align: top;\n",
       "    }\n",
       "\n",
       "    .dataframe thead th {\n",
       "        text-align: right;\n",
       "    }\n",
       "</style>\n",
       "<table border=\"1\" class=\"dataframe\">\n",
       "  <thead>\n",
       "    <tr style=\"text-align: right;\">\n",
       "      <th></th>\n",
       "      <th>InstanceType</th>\n",
       "      <th>Zone</th>\n",
       "      <th>Timestamp</th>\n",
       "      <th>AvailabilityZone</th>\n",
       "      <th>InstanceType_1</th>\n",
       "      <th>Zone_1</th>\n",
       "      <th>Price_Linux/UNIX</th>\n",
       "      <th>Price_SUSE Linux</th>\n",
       "      <th>Price_Windows</th>\n",
       "      <th>Memory</th>\n",
       "      <th>vCPUs</th>\n",
       "      <th>GPUs</th>\n",
       "      <th>Cost_linux_ondemand</th>\n",
       "      <th>Cost_linux_reserved</th>\n",
       "      <th>Cost_windows_ondemand</th>\n",
       "      <th>Cost_windows_reserved</th>\n",
       "    </tr>\n",
       "  </thead>\n",
       "  <tbody>\n",
       "    <tr>\n",
       "      <th>0</th>\n",
       "      <td>r5ad.4xlarge</td>\n",
       "      <td>us-east-1</td>\n",
       "      <td>3/30/19 10:00:03 PM</td>\n",
       "      <td>us-east-1f</td>\n",
       "      <td>r5ad.4xlarge</td>\n",
       "      <td>us-east-1</td>\n",
       "      <td>0.285</td>\n",
       "      <td>0.385</td>\n",
       "      <td>NaN</td>\n",
       "      <td>128.0</td>\n",
       "      <td>16</td>\n",
       "      <td>0</td>\n",
       "      <td>1.048000</td>\n",
       "      <td>0.664000</td>\n",
       "      <td>1.784000</td>\n",
       "      <td>1.400000</td>\n",
       "    </tr>\n",
       "    <tr>\n",
       "      <th>1</th>\n",
       "      <td>m5d.4xlarge</td>\n",
       "      <td>us-east-1</td>\n",
       "      <td>3/30/19 10:00:55 PM</td>\n",
       "      <td>us-east-1a</td>\n",
       "      <td>m5d.4xlarge</td>\n",
       "      <td>us-east-1</td>\n",
       "      <td>NaN</td>\n",
       "      <td>NaN</td>\n",
       "      <td>1.0081</td>\n",
       "      <td>64.0</td>\n",
       "      <td>16</td>\n",
       "      <td>0</td>\n",
       "      <td>0.904000</td>\n",
       "      <td>0.576000</td>\n",
       "      <td>1.640000</td>\n",
       "      <td>1.312000</td>\n",
       "    </tr>\n",
       "    <tr>\n",
       "      <th>2</th>\n",
       "      <td>m5d.4xlarge</td>\n",
       "      <td>us-east-1</td>\n",
       "      <td>3/30/19 10:00:55 PM</td>\n",
       "      <td>us-east-1b</td>\n",
       "      <td>m5d.4xlarge</td>\n",
       "      <td>us-east-1</td>\n",
       "      <td>NaN</td>\n",
       "      <td>NaN</td>\n",
       "      <td>1.0081</td>\n",
       "      <td>64.0</td>\n",
       "      <td>16</td>\n",
       "      <td>0</td>\n",
       "      <td>0.904000</td>\n",
       "      <td>0.576000</td>\n",
       "      <td>1.640000</td>\n",
       "      <td>1.312000</td>\n",
       "    </tr>\n",
       "    <tr>\n",
       "      <th>3</th>\n",
       "      <td>m5d.4xlarge</td>\n",
       "      <td>us-east-1</td>\n",
       "      <td>3/30/19 10:00:55 PM</td>\n",
       "      <td>us-east-1c</td>\n",
       "      <td>m5d.4xlarge</td>\n",
       "      <td>us-east-1</td>\n",
       "      <td>NaN</td>\n",
       "      <td>NaN</td>\n",
       "      <td>1.0081</td>\n",
       "      <td>64.0</td>\n",
       "      <td>16</td>\n",
       "      <td>0</td>\n",
       "      <td>0.904000</td>\n",
       "      <td>0.576000</td>\n",
       "      <td>1.640000</td>\n",
       "      <td>1.312000</td>\n",
       "    </tr>\n",
       "    <tr>\n",
       "      <th>4</th>\n",
       "      <td>m5d.4xlarge</td>\n",
       "      <td>us-east-1</td>\n",
       "      <td>3/30/19 10:00:55 PM</td>\n",
       "      <td>us-east-1d</td>\n",
       "      <td>m5d.4xlarge</td>\n",
       "      <td>us-east-1</td>\n",
       "      <td>NaN</td>\n",
       "      <td>NaN</td>\n",
       "      <td>1.0081</td>\n",
       "      <td>64.0</td>\n",
       "      <td>16</td>\n",
       "      <td>0</td>\n",
       "      <td>0.904000</td>\n",
       "      <td>0.576000</td>\n",
       "      <td>1.640000</td>\n",
       "      <td>1.312000</td>\n",
       "    </tr>\n",
       "  </tbody>\n",
       "</table>\n",
       "</div>"
      ],
      "text/plain": [
       "   InstanceType       Zone            Timestamp AvailabilityZone  \\\n",
       "0  r5ad.4xlarge  us-east-1  3/30/19 10:00:03 PM       us-east-1f   \n",
       "1   m5d.4xlarge  us-east-1  3/30/19 10:00:55 PM       us-east-1a   \n",
       "2   m5d.4xlarge  us-east-1  3/30/19 10:00:55 PM       us-east-1b   \n",
       "3   m5d.4xlarge  us-east-1  3/30/19 10:00:55 PM       us-east-1c   \n",
       "4   m5d.4xlarge  us-east-1  3/30/19 10:00:55 PM       us-east-1d   \n",
       "\n",
       "  InstanceType_1     Zone_1  Price_Linux/UNIX  Price_SUSE Linux  \\\n",
       "0   r5ad.4xlarge  us-east-1             0.285             0.385   \n",
       "1    m5d.4xlarge  us-east-1               NaN               NaN   \n",
       "2    m5d.4xlarge  us-east-1               NaN               NaN   \n",
       "3    m5d.4xlarge  us-east-1               NaN               NaN   \n",
       "4    m5d.4xlarge  us-east-1               NaN               NaN   \n",
       "\n",
       "   Price_Windows Memory vCPUs  GPUs Cost_linux_ondemand Cost_linux_reserved  \\\n",
       "0            NaN  128.0    16     0            1.048000            0.664000   \n",
       "1         1.0081   64.0    16     0            0.904000            0.576000   \n",
       "2         1.0081   64.0    16     0            0.904000            0.576000   \n",
       "3         1.0081   64.0    16     0            0.904000            0.576000   \n",
       "4         1.0081   64.0    16     0            0.904000            0.576000   \n",
       "\n",
       "  Cost_windows_ondemand Cost_windows_reserved  \n",
       "0              1.784000              1.400000  \n",
       "1              1.640000              1.312000  \n",
       "2              1.640000              1.312000  \n",
       "3              1.640000              1.312000  \n",
       "4              1.640000              1.312000  "
      ]
     },
     "execution_count": 24,
     "metadata": {},
     "output_type": "execute_result"
    }
   ],
   "source": [
    "main_data_2.columns = columns_proper\n",
    "main_data_2.head()"
   ]
  },
  {
   "cell_type": "code",
   "execution_count": 25,
   "metadata": {},
   "outputs": [],
   "source": [
    "linux_full_dataset = main_data_2[['InstanceType','Zone','Timestamp','AvailabilityZone','Price_Linux/UNIX',\n",
    "                                  'Memory','vCPUs', 'GPUs','Cost_linux_ondemand','Cost_linux_reserved']]\n",
    "\n",
    "windows_full_dataset = main_data_2[['InstanceType','Zone','Timestamp','AvailabilityZone','Price_Windows',\n",
    "                                  'Memory','vCPUs', 'GPUs','Cost_windows_ondemand','Cost_windows_reserved']]"
   ]
  },
  {
   "cell_type": "code",
   "execution_count": 26,
   "metadata": {},
   "outputs": [
    {
     "name": "stdout",
     "output_type": "stream",
     "text": [
      "<class 'pandas.core.frame.DataFrame'>\n",
      "Int64Index: 363326 entries, 0 to 363325\n",
      "Data columns (total 10 columns):\n",
      "InstanceType             363326 non-null object\n",
      "Zone                     363326 non-null object\n",
      "Timestamp                363326 non-null object\n",
      "AvailabilityZone         363326 non-null object\n",
      "Price_Windows            163323 non-null float64\n",
      "Memory                   363326 non-null object\n",
      "vCPUs                    363326 non-null object\n",
      "GPUs                     363326 non-null int64\n",
      "Cost_windows_ondemand    358004 non-null object\n",
      "Cost_windows_reserved    358004 non-null object\n",
      "dtypes: float64(1), int64(1), object(8)\n",
      "memory usage: 30.5+ MB\n"
     ]
    }
   ],
   "source": [
    "windows_full_dataset.info()"
   ]
  },
  {
   "cell_type": "code",
   "execution_count": 27,
   "metadata": {},
   "outputs": [
    {
     "name": "stdout",
     "output_type": "stream",
     "text": [
      "<class 'pandas.core.frame.DataFrame'>\n",
      "Int64Index: 363326 entries, 0 to 363325\n",
      "Data columns (total 10 columns):\n",
      "InstanceType           363326 non-null object\n",
      "Zone                   363326 non-null object\n",
      "Timestamp              363326 non-null object\n",
      "AvailabilityZone       363326 non-null object\n",
      "Price_Linux/UNIX       261253 non-null float64\n",
      "Memory                 363326 non-null object\n",
      "vCPUs                  363326 non-null object\n",
      "GPUs                   363326 non-null int64\n",
      "Cost_linux_ondemand    363138 non-null object\n",
      "Cost_linux_reserved    362655 non-null object\n",
      "dtypes: float64(1), int64(1), object(8)\n",
      "memory usage: 30.5+ MB\n"
     ]
    }
   ],
   "source": [
    "linux_full_dataset.info()"
   ]
  },
  {
   "cell_type": "code",
   "execution_count": 28,
   "metadata": {},
   "outputs": [],
   "source": [
    "linux_full_dataset[['Cost_linux_ondemand','Cost_linux_reserved']]=linux_full_dataset[['Cost_linux_ondemand','Cost_linux_reserved']].astype(np.float)"
   ]
  },
  {
   "cell_type": "code",
   "execution_count": 29,
   "metadata": {},
   "outputs": [],
   "source": [
    "windows_full_dataset[['Cost_windows_ondemand','Cost_windows_reserved']]=windows_full_dataset[['Cost_windows_ondemand','Cost_windows_reserved']].astype(np.float)"
   ]
  },
  {
   "cell_type": "code",
   "execution_count": 30,
   "metadata": {},
   "outputs": [],
   "source": [
    "linux_full_dataset['Timestamp'] = linux_full_dataset['Timestamp'].astype(np.datetime64)\n",
    "windows_full_dataset['Timestamp'] = windows_full_dataset['Timestamp'].astype(np.datetime64)"
   ]
  },
  {
   "cell_type": "code",
   "execution_count": 31,
   "metadata": {},
   "outputs": [],
   "source": [
    "# CHECKPOINT\n",
    "# writing file for checkpointing\n",
    "linux_full_dataset.to_csv('linux_data_clean.csv', index=False)\n",
    "windows_full_dataset.to_csv('windows_data_clean.csv', index=False)"
   ]
  },
  {
   "cell_type": "code",
   "execution_count": 32,
   "metadata": {},
   "outputs": [
    {
     "name": "stdout",
     "output_type": "stream",
     "text": [
      "<class 'pandas.core.frame.DataFrame'>\n",
      "Int64Index: 363326 entries, 0 to 363325\n",
      "Data columns (total 10 columns):\n",
      "InstanceType             363326 non-null object\n",
      "Zone                     363326 non-null object\n",
      "Timestamp                363326 non-null datetime64[ns]\n",
      "AvailabilityZone         363326 non-null object\n",
      "Price_Windows            163323 non-null float64\n",
      "Memory                   363326 non-null object\n",
      "vCPUs                    363326 non-null object\n",
      "GPUs                     363326 non-null int64\n",
      "Cost_windows_ondemand    358004 non-null float64\n",
      "Cost_windows_reserved    358004 non-null float64\n",
      "dtypes: datetime64[ns](1), float64(3), int64(1), object(5)\n",
      "memory usage: 30.5+ MB\n"
     ]
    }
   ],
   "source": [
    "windows_full_dataset.info()"
   ]
  },
  {
   "cell_type": "code",
   "execution_count": 33,
   "metadata": {},
   "outputs": [
    {
     "name": "stdout",
     "output_type": "stream",
     "text": [
      "<class 'pandas.core.frame.DataFrame'>\n",
      "Int64Index: 363326 entries, 0 to 363325\n",
      "Data columns (total 10 columns):\n",
      "InstanceType           363326 non-null object\n",
      "Zone                   363326 non-null object\n",
      "Timestamp              363326 non-null datetime64[ns]\n",
      "AvailabilityZone       363326 non-null object\n",
      "Price_Linux/UNIX       261253 non-null float64\n",
      "Memory                 363326 non-null object\n",
      "vCPUs                  363326 non-null object\n",
      "GPUs                   363326 non-null int64\n",
      "Cost_linux_ondemand    363138 non-null float64\n",
      "Cost_linux_reserved    362655 non-null float64\n",
      "dtypes: datetime64[ns](1), float64(3), int64(1), object(5)\n",
      "memory usage: 30.5+ MB\n"
     ]
    }
   ],
   "source": [
    "linux_full_dataset.info()"
   ]
  },
  {
   "cell_type": "code",
   "execution_count": 34,
   "metadata": {},
   "outputs": [
    {
     "data": {
      "text/html": [
       "<div>\n",
       "<style scoped>\n",
       "    .dataframe tbody tr th:only-of-type {\n",
       "        vertical-align: middle;\n",
       "    }\n",
       "\n",
       "    .dataframe tbody tr th {\n",
       "        vertical-align: top;\n",
       "    }\n",
       "\n",
       "    .dataframe thead th {\n",
       "        text-align: right;\n",
       "    }\n",
       "</style>\n",
       "<table border=\"1\" class=\"dataframe\">\n",
       "  <thead>\n",
       "    <tr style=\"text-align: right;\">\n",
       "      <th></th>\n",
       "      <th>InstanceType</th>\n",
       "      <th>Zone</th>\n",
       "      <th>Timestamp</th>\n",
       "      <th>AvailabilityZone</th>\n",
       "      <th>Price_Windows</th>\n",
       "      <th>Memory</th>\n",
       "      <th>vCPUs</th>\n",
       "      <th>GPUs</th>\n",
       "      <th>Cost_windows_ondemand</th>\n",
       "      <th>Cost_windows_reserved</th>\n",
       "    </tr>\n",
       "  </thead>\n",
       "  <tbody>\n",
       "    <tr>\n",
       "      <th>0</th>\n",
       "      <td>r5ad.4xlarge</td>\n",
       "      <td>us-east-1</td>\n",
       "      <td>2019-03-30 22:00:03</td>\n",
       "      <td>us-east-1f</td>\n",
       "      <td>NaN</td>\n",
       "      <td>128.0</td>\n",
       "      <td>16</td>\n",
       "      <td>0</td>\n",
       "      <td>1.784</td>\n",
       "      <td>1.400</td>\n",
       "    </tr>\n",
       "    <tr>\n",
       "      <th>1</th>\n",
       "      <td>m5d.4xlarge</td>\n",
       "      <td>us-east-1</td>\n",
       "      <td>2019-03-30 22:00:55</td>\n",
       "      <td>us-east-1a</td>\n",
       "      <td>1.0081</td>\n",
       "      <td>64.0</td>\n",
       "      <td>16</td>\n",
       "      <td>0</td>\n",
       "      <td>1.640</td>\n",
       "      <td>1.312</td>\n",
       "    </tr>\n",
       "    <tr>\n",
       "      <th>2</th>\n",
       "      <td>m5d.4xlarge</td>\n",
       "      <td>us-east-1</td>\n",
       "      <td>2019-03-30 22:00:55</td>\n",
       "      <td>us-east-1b</td>\n",
       "      <td>1.0081</td>\n",
       "      <td>64.0</td>\n",
       "      <td>16</td>\n",
       "      <td>0</td>\n",
       "      <td>1.640</td>\n",
       "      <td>1.312</td>\n",
       "    </tr>\n",
       "    <tr>\n",
       "      <th>3</th>\n",
       "      <td>m5d.4xlarge</td>\n",
       "      <td>us-east-1</td>\n",
       "      <td>2019-03-30 22:00:55</td>\n",
       "      <td>us-east-1c</td>\n",
       "      <td>1.0081</td>\n",
       "      <td>64.0</td>\n",
       "      <td>16</td>\n",
       "      <td>0</td>\n",
       "      <td>1.640</td>\n",
       "      <td>1.312</td>\n",
       "    </tr>\n",
       "    <tr>\n",
       "      <th>4</th>\n",
       "      <td>m5d.4xlarge</td>\n",
       "      <td>us-east-1</td>\n",
       "      <td>2019-03-30 22:00:55</td>\n",
       "      <td>us-east-1d</td>\n",
       "      <td>1.0081</td>\n",
       "      <td>64.0</td>\n",
       "      <td>16</td>\n",
       "      <td>0</td>\n",
       "      <td>1.640</td>\n",
       "      <td>1.312</td>\n",
       "    </tr>\n",
       "  </tbody>\n",
       "</table>\n",
       "</div>"
      ],
      "text/plain": [
       "   InstanceType       Zone           Timestamp AvailabilityZone  \\\n",
       "0  r5ad.4xlarge  us-east-1 2019-03-30 22:00:03       us-east-1f   \n",
       "1   m5d.4xlarge  us-east-1 2019-03-30 22:00:55       us-east-1a   \n",
       "2   m5d.4xlarge  us-east-1 2019-03-30 22:00:55       us-east-1b   \n",
       "3   m5d.4xlarge  us-east-1 2019-03-30 22:00:55       us-east-1c   \n",
       "4   m5d.4xlarge  us-east-1 2019-03-30 22:00:55       us-east-1d   \n",
       "\n",
       "   Price_Windows Memory vCPUs  GPUs  Cost_windows_ondemand  \\\n",
       "0            NaN  128.0    16     0                  1.784   \n",
       "1         1.0081   64.0    16     0                  1.640   \n",
       "2         1.0081   64.0    16     0                  1.640   \n",
       "3         1.0081   64.0    16     0                  1.640   \n",
       "4         1.0081   64.0    16     0                  1.640   \n",
       "\n",
       "   Cost_windows_reserved  \n",
       "0                  1.400  \n",
       "1                  1.312  \n",
       "2                  1.312  \n",
       "3                  1.312  \n",
       "4                  1.312  "
      ]
     },
     "execution_count": 34,
     "metadata": {},
     "output_type": "execute_result"
    }
   ],
   "source": [
    "windows_full_dataset.head()"
   ]
  },
  {
   "cell_type": "code",
   "execution_count": 35,
   "metadata": {},
   "outputs": [
    {
     "data": {
      "text/html": [
       "<div>\n",
       "<style scoped>\n",
       "    .dataframe tbody tr th:only-of-type {\n",
       "        vertical-align: middle;\n",
       "    }\n",
       "\n",
       "    .dataframe tbody tr th {\n",
       "        vertical-align: top;\n",
       "    }\n",
       "\n",
       "    .dataframe thead th {\n",
       "        text-align: right;\n",
       "    }\n",
       "</style>\n",
       "<table border=\"1\" class=\"dataframe\">\n",
       "  <thead>\n",
       "    <tr style=\"text-align: right;\">\n",
       "      <th></th>\n",
       "      <th>InstanceType</th>\n",
       "      <th>Zone</th>\n",
       "      <th>Timestamp</th>\n",
       "      <th>AvailabilityZone</th>\n",
       "      <th>Price_Linux/UNIX</th>\n",
       "      <th>Memory</th>\n",
       "      <th>vCPUs</th>\n",
       "      <th>GPUs</th>\n",
       "      <th>Cost_linux_ondemand</th>\n",
       "      <th>Cost_linux_reserved</th>\n",
       "    </tr>\n",
       "  </thead>\n",
       "  <tbody>\n",
       "    <tr>\n",
       "      <th>0</th>\n",
       "      <td>r5ad.4xlarge</td>\n",
       "      <td>us-east-1</td>\n",
       "      <td>2019-03-30 22:00:03</td>\n",
       "      <td>us-east-1f</td>\n",
       "      <td>0.285</td>\n",
       "      <td>128.0</td>\n",
       "      <td>16</td>\n",
       "      <td>0</td>\n",
       "      <td>1.048</td>\n",
       "      <td>0.664</td>\n",
       "    </tr>\n",
       "    <tr>\n",
       "      <th>1</th>\n",
       "      <td>m5d.4xlarge</td>\n",
       "      <td>us-east-1</td>\n",
       "      <td>2019-03-30 22:00:55</td>\n",
       "      <td>us-east-1a</td>\n",
       "      <td>NaN</td>\n",
       "      <td>64.0</td>\n",
       "      <td>16</td>\n",
       "      <td>0</td>\n",
       "      <td>0.904</td>\n",
       "      <td>0.576</td>\n",
       "    </tr>\n",
       "    <tr>\n",
       "      <th>2</th>\n",
       "      <td>m5d.4xlarge</td>\n",
       "      <td>us-east-1</td>\n",
       "      <td>2019-03-30 22:00:55</td>\n",
       "      <td>us-east-1b</td>\n",
       "      <td>NaN</td>\n",
       "      <td>64.0</td>\n",
       "      <td>16</td>\n",
       "      <td>0</td>\n",
       "      <td>0.904</td>\n",
       "      <td>0.576</td>\n",
       "    </tr>\n",
       "    <tr>\n",
       "      <th>3</th>\n",
       "      <td>m5d.4xlarge</td>\n",
       "      <td>us-east-1</td>\n",
       "      <td>2019-03-30 22:00:55</td>\n",
       "      <td>us-east-1c</td>\n",
       "      <td>NaN</td>\n",
       "      <td>64.0</td>\n",
       "      <td>16</td>\n",
       "      <td>0</td>\n",
       "      <td>0.904</td>\n",
       "      <td>0.576</td>\n",
       "    </tr>\n",
       "    <tr>\n",
       "      <th>4</th>\n",
       "      <td>m5d.4xlarge</td>\n",
       "      <td>us-east-1</td>\n",
       "      <td>2019-03-30 22:00:55</td>\n",
       "      <td>us-east-1d</td>\n",
       "      <td>NaN</td>\n",
       "      <td>64.0</td>\n",
       "      <td>16</td>\n",
       "      <td>0</td>\n",
       "      <td>0.904</td>\n",
       "      <td>0.576</td>\n",
       "    </tr>\n",
       "  </tbody>\n",
       "</table>\n",
       "</div>"
      ],
      "text/plain": [
       "   InstanceType       Zone           Timestamp AvailabilityZone  \\\n",
       "0  r5ad.4xlarge  us-east-1 2019-03-30 22:00:03       us-east-1f   \n",
       "1   m5d.4xlarge  us-east-1 2019-03-30 22:00:55       us-east-1a   \n",
       "2   m5d.4xlarge  us-east-1 2019-03-30 22:00:55       us-east-1b   \n",
       "3   m5d.4xlarge  us-east-1 2019-03-30 22:00:55       us-east-1c   \n",
       "4   m5d.4xlarge  us-east-1 2019-03-30 22:00:55       us-east-1d   \n",
       "\n",
       "   Price_Linux/UNIX Memory vCPUs  GPUs  Cost_linux_ondemand  \\\n",
       "0             0.285  128.0    16     0                1.048   \n",
       "1               NaN   64.0    16     0                0.904   \n",
       "2               NaN   64.0    16     0                0.904   \n",
       "3               NaN   64.0    16     0                0.904   \n",
       "4               NaN   64.0    16     0                0.904   \n",
       "\n",
       "   Cost_linux_reserved  \n",
       "0                0.664  \n",
       "1                0.576  \n",
       "2                0.576  \n",
       "3                0.576  \n",
       "4                0.576  "
      ]
     },
     "execution_count": 35,
     "metadata": {},
     "output_type": "execute_result"
    }
   ],
   "source": [
    "linux_full_dataset.head()"
   ]
  },
  {
   "cell_type": "code",
   "execution_count": 36,
   "metadata": {},
   "outputs": [
    {
     "data": {
      "text/plain": [
       "InstanceType                0\n",
       "Zone                        0\n",
       "Timestamp                   0\n",
       "AvailabilityZone            0\n",
       "Price_Linux/UNIX       102073\n",
       "Memory                      0\n",
       "vCPUs                       0\n",
       "GPUs                        0\n",
       "Cost_linux_ondemand       188\n",
       "Cost_linux_reserved       671\n",
       "dtype: int64"
      ]
     },
     "execution_count": 36,
     "metadata": {},
     "output_type": "execute_result"
    }
   ],
   "source": [
    "linux_full_dataset.isna().sum()"
   ]
  },
  {
   "cell_type": "code",
   "execution_count": 37,
   "metadata": {},
   "outputs": [],
   "source": [
    "linux_full_dataset = linux_full_dataset.dropna()"
   ]
  },
  {
   "cell_type": "code",
   "execution_count": 38,
   "metadata": {},
   "outputs": [
    {
     "data": {
      "text/plain": [
       "array(['us-east-1', 'us-west-2', 'us-west-1', 'us-east-2'], dtype=object)"
      ]
     },
     "execution_count": 38,
     "metadata": {},
     "output_type": "execute_result"
    }
   ],
   "source": [
    "windows_full_dataset.Zone.unique()"
   ]
  },
  {
   "cell_type": "code",
   "execution_count": 39,
   "metadata": {},
   "outputs": [
    {
     "data": {
      "text/plain": [
       "InstanceType                  0\n",
       "Zone                          0\n",
       "Timestamp                     0\n",
       "AvailabilityZone              0\n",
       "Price_Windows            200003\n",
       "Memory                        0\n",
       "vCPUs                         0\n",
       "GPUs                          0\n",
       "Cost_windows_ondemand      5322\n",
       "Cost_windows_reserved      5322\n",
       "dtype: int64"
      ]
     },
     "execution_count": 39,
     "metadata": {},
     "output_type": "execute_result"
    }
   ],
   "source": [
    "windows_full_dataset.isna().sum()"
   ]
  },
  {
   "cell_type": "code",
   "execution_count": 40,
   "metadata": {},
   "outputs": [],
   "source": [
    "windows_full_dataset = windows_full_dataset.dropna()"
   ]
  },
  {
   "cell_type": "code",
   "execution_count": 41,
   "metadata": {},
   "outputs": [],
   "source": [
    "from datetime import datetime\n",
    "from matplotlib import pyplot\n",
    "import seaborn as sns"
   ]
  },
  {
   "cell_type": "code",
   "execution_count": 42,
   "metadata": {},
   "outputs": [
    {
     "data": {
      "text/html": [
       "<div>\n",
       "<style scoped>\n",
       "    .dataframe tbody tr th:only-of-type {\n",
       "        vertical-align: middle;\n",
       "    }\n",
       "\n",
       "    .dataframe tbody tr th {\n",
       "        vertical-align: top;\n",
       "    }\n",
       "\n",
       "    .dataframe thead th {\n",
       "        text-align: right;\n",
       "    }\n",
       "</style>\n",
       "<table border=\"1\" class=\"dataframe\">\n",
       "  <thead>\n",
       "    <tr style=\"text-align: right;\">\n",
       "      <th></th>\n",
       "      <th>Price_Linux/UNIX</th>\n",
       "      <th>GPUs</th>\n",
       "      <th>Cost_linux_ondemand</th>\n",
       "      <th>Cost_linux_reserved</th>\n",
       "    </tr>\n",
       "  </thead>\n",
       "  <tbody>\n",
       "    <tr>\n",
       "      <th>count</th>\n",
       "      <td>260861.000000</td>\n",
       "      <td>260861.000000</td>\n",
       "      <td>260861.000000</td>\n",
       "      <td>260861.000000</td>\n",
       "    </tr>\n",
       "    <tr>\n",
       "      <th>mean</th>\n",
       "      <td>0.793856</td>\n",
       "      <td>0.231161</td>\n",
       "      <td>1.965230</td>\n",
       "      <td>1.264014</td>\n",
       "    </tr>\n",
       "    <tr>\n",
       "      <th>std</th>\n",
       "      <td>1.730479</td>\n",
       "      <td>1.342360</td>\n",
       "      <td>3.064841</td>\n",
       "      <td>1.988592</td>\n",
       "    </tr>\n",
       "    <tr>\n",
       "      <th>min</th>\n",
       "      <td>0.001400</td>\n",
       "      <td>0.000000</td>\n",
       "      <td>0.004700</td>\n",
       "      <td>0.002900</td>\n",
       "    </tr>\n",
       "    <tr>\n",
       "      <th>25%</th>\n",
       "      <td>0.082900</td>\n",
       "      <td>0.000000</td>\n",
       "      <td>0.288000</td>\n",
       "      <td>0.188600</td>\n",
       "    </tr>\n",
       "    <tr>\n",
       "      <th>50%</th>\n",
       "      <td>0.277600</td>\n",
       "      <td>0.000000</td>\n",
       "      <td>0.800000</td>\n",
       "      <td>0.504000</td>\n",
       "    </tr>\n",
       "    <tr>\n",
       "      <th>75%</th>\n",
       "      <td>0.849900</td>\n",
       "      <td>0.000000</td>\n",
       "      <td>2.660000</td>\n",
       "      <td>1.701000</td>\n",
       "    </tr>\n",
       "    <tr>\n",
       "      <th>max</th>\n",
       "      <td>31.212000</td>\n",
       "      <td>16.000000</td>\n",
       "      <td>31.212000</td>\n",
       "      <td>19.215000</td>\n",
       "    </tr>\n",
       "  </tbody>\n",
       "</table>\n",
       "</div>"
      ],
      "text/plain": [
       "       Price_Linux/UNIX           GPUs  Cost_linux_ondemand  \\\n",
       "count     260861.000000  260861.000000        260861.000000   \n",
       "mean           0.793856       0.231161             1.965230   \n",
       "std            1.730479       1.342360             3.064841   \n",
       "min            0.001400       0.000000             0.004700   \n",
       "25%            0.082900       0.000000             0.288000   \n",
       "50%            0.277600       0.000000             0.800000   \n",
       "75%            0.849900       0.000000             2.660000   \n",
       "max           31.212000      16.000000            31.212000   \n",
       "\n",
       "       Cost_linux_reserved  \n",
       "count        260861.000000  \n",
       "mean              1.264014  \n",
       "std               1.988592  \n",
       "min               0.002900  \n",
       "25%               0.188600  \n",
       "50%               0.504000  \n",
       "75%               1.701000  \n",
       "max              19.215000  "
      ]
     },
     "execution_count": 42,
     "metadata": {},
     "output_type": "execute_result"
    }
   ],
   "source": [
    "linux_full_dataset.describe()"
   ]
  },
  {
   "cell_type": "code",
   "execution_count": 43,
   "metadata": {},
   "outputs": [
    {
     "data": {
      "text/html": [
       "<div>\n",
       "<style scoped>\n",
       "    .dataframe tbody tr th:only-of-type {\n",
       "        vertical-align: middle;\n",
       "    }\n",
       "\n",
       "    .dataframe tbody tr th {\n",
       "        vertical-align: top;\n",
       "    }\n",
       "\n",
       "    .dataframe thead th {\n",
       "        text-align: right;\n",
       "    }\n",
       "</style>\n",
       "<table border=\"1\" class=\"dataframe\">\n",
       "  <thead>\n",
       "    <tr style=\"text-align: right;\">\n",
       "      <th></th>\n",
       "      <th>Price_Windows</th>\n",
       "      <th>GPUs</th>\n",
       "      <th>Cost_windows_ondemand</th>\n",
       "      <th>Cost_windows_reserved</th>\n",
       "    </tr>\n",
       "  </thead>\n",
       "  <tbody>\n",
       "    <tr>\n",
       "      <th>count</th>\n",
       "      <td>163215.000000</td>\n",
       "      <td>163215.000000</td>\n",
       "      <td>163215.000000</td>\n",
       "      <td>163215.000000</td>\n",
       "    </tr>\n",
       "    <tr>\n",
       "      <th>mean</th>\n",
       "      <td>2.054993</td>\n",
       "      <td>0.298514</td>\n",
       "      <td>3.259248</td>\n",
       "      <td>2.485108</td>\n",
       "    </tr>\n",
       "    <tr>\n",
       "      <th>std</th>\n",
       "      <td>3.174563</td>\n",
       "      <td>1.621344</td>\n",
       "      <td>4.692871</td>\n",
       "      <td>3.450123</td>\n",
       "    </tr>\n",
       "    <tr>\n",
       "      <th>min</th>\n",
       "      <td>0.002000</td>\n",
       "      <td>0.000000</td>\n",
       "      <td>0.009300</td>\n",
       "      <td>0.007500</td>\n",
       "    </tr>\n",
       "    <tr>\n",
       "      <th>25%</th>\n",
       "      <td>0.225800</td>\n",
       "      <td>0.000000</td>\n",
       "      <td>0.383000</td>\n",
       "      <td>0.307900</td>\n",
       "    </tr>\n",
       "    <tr>\n",
       "      <th>50%</th>\n",
       "      <td>0.663900</td>\n",
       "      <td>0.000000</td>\n",
       "      <td>1.112000</td>\n",
       "      <td>0.838000</td>\n",
       "    </tr>\n",
       "    <tr>\n",
       "      <th>75%</th>\n",
       "      <td>3.019300</td>\n",
       "      <td>0.000000</td>\n",
       "      <td>4.512000</td>\n",
       "      <td>3.521000</td>\n",
       "    </tr>\n",
       "    <tr>\n",
       "      <th>max</th>\n",
       "      <td>35.628000</td>\n",
       "      <td>16.000000</td>\n",
       "      <td>35.628000</td>\n",
       "      <td>23.631000</td>\n",
       "    </tr>\n",
       "  </tbody>\n",
       "</table>\n",
       "</div>"
      ],
      "text/plain": [
       "       Price_Windows           GPUs  Cost_windows_ondemand  \\\n",
       "count  163215.000000  163215.000000          163215.000000   \n",
       "mean        2.054993       0.298514               3.259248   \n",
       "std         3.174563       1.621344               4.692871   \n",
       "min         0.002000       0.000000               0.009300   \n",
       "25%         0.225800       0.000000               0.383000   \n",
       "50%         0.663900       0.000000               1.112000   \n",
       "75%         3.019300       0.000000               4.512000   \n",
       "max        35.628000      16.000000              35.628000   \n",
       "\n",
       "       Cost_windows_reserved  \n",
       "count          163215.000000  \n",
       "mean                2.485108  \n",
       "std                 3.450123  \n",
       "min                 0.007500  \n",
       "25%                 0.307900  \n",
       "50%                 0.838000  \n",
       "75%                 3.521000  \n",
       "max                23.631000  "
      ]
     },
     "execution_count": 43,
     "metadata": {},
     "output_type": "execute_result"
    }
   ],
   "source": [
    "windows_full_dataset.describe()"
   ]
  },
  {
   "cell_type": "code",
   "execution_count": 44,
   "metadata": {},
   "outputs": [
    {
     "data": {
      "text/plain": [
       "Text(0, 0.5, 'Frequency')"
      ]
     },
     "execution_count": 44,
     "metadata": {},
     "output_type": "execute_result"
    },
    {
     "data": {
      "image/png": "[encoded data removed]",
      "text/plain": [
       "<Figure size 864x432 with 1 Axes>"
      ]
     },
     "metadata": {
      "needs_background": "light"
     },
     "output_type": "display_data"
    }
   ],
   "source": [
    "s=linux_full_dataset.groupby('InstanceType').size().plot(\"bar\",figsize=(12,6),fontsize=12)\n",
    "s.set_title(\"AWS  instance-type\",color='darkorange',fontsize=30)\n",
    "s.set_xlabel(\"Instance type\",color='g',fontsize=20)\n",
    "s.set_ylabel(\"Frequency\",color='g',fontsize=20)"
   ]
  },
  {
   "cell_type": "code",
   "execution_count": 45,
   "metadata": {},
   "outputs": [
    {
     "data": {
      "text/plain": [
       "Text(0, 0.5, 'Frequency')"
      ]
     },
     "execution_count": 45,
     "metadata": {},
     "output_type": "execute_result"
    },
    {
     "data": {
      "image/png": "[encoded data removed]",
      "text/plain": [
       "<Figure size 432x288 with 1 Axes>"
      ]
     },
     "metadata": {
      "needs_background": "light"
     },
     "output_type": "display_data"
    }
   ],
   "source": [
    "s=linux_full_dataset.groupby('AvailabilityZone').sum().plot(kind=\"bar\",fontsize=12,color='r',legend=False)\n",
    "s.set_title(\"AWS zone region wise price collection\",color='darkorange',fontsize=30)\n",
    "s.set_xlabel(\"Region name\",color='g',fontsize=20)\n",
    "s.set_ylabel(\"Frequency\",color='g',fontsize=20)"
   ]
  },
  {
   "cell_type": "code",
   "execution_count": 46,
   "metadata": {},
   "outputs": [
    {
     "data": {
      "text/html": [
       "<div>\n",
       "<style scoped>\n",
       "    .dataframe tbody tr th:only-of-type {\n",
       "        vertical-align: middle;\n",
       "    }\n",
       "\n",
       "    .dataframe tbody tr th {\n",
       "        vertical-align: top;\n",
       "    }\n",
       "\n",
       "    .dataframe thead th {\n",
       "        text-align: right;\n",
       "    }\n",
       "</style>\n",
       "<table border=\"1\" class=\"dataframe\">\n",
       "  <thead>\n",
       "    <tr style=\"text-align: right;\">\n",
       "      <th></th>\n",
       "      <th>InstanceType</th>\n",
       "      <th>Zone</th>\n",
       "      <th>Timestamp</th>\n",
       "      <th>AvailabilityZone</th>\n",
       "      <th>Price_Linux/UNIX</th>\n",
       "      <th>Memory</th>\n",
       "      <th>vCPUs</th>\n",
       "      <th>GPUs</th>\n",
       "      <th>Cost_linux_ondemand</th>\n",
       "      <th>Cost_linux_reserved</th>\n",
       "    </tr>\n",
       "  </thead>\n",
       "  <tbody>\n",
       "    <tr>\n",
       "      <th>304645</th>\n",
       "      <td>c5d.9xlarge</td>\n",
       "      <td>us-east-2</td>\n",
       "      <td>2019-05-27 05:42:00</td>\n",
       "      <td>us-east-2c</td>\n",
       "      <td>0.3639</td>\n",
       "      <td>72.0</td>\n",
       "      <td>36</td>\n",
       "      <td>0</td>\n",
       "      <td>1.728</td>\n",
       "      <td>1.096</td>\n",
       "    </tr>\n",
       "    <tr>\n",
       "      <th>170409</th>\n",
       "      <td>x1e.8xlarge</td>\n",
       "      <td>us-west-2</td>\n",
       "      <td>2019-04-08 16:42:21</td>\n",
       "      <td>us-west-2b</td>\n",
       "      <td>2.0016</td>\n",
       "      <td>976.0</td>\n",
       "      <td>32</td>\n",
       "      <td>0</td>\n",
       "      <td>6.672</td>\n",
       "      <td>4.112</td>\n",
       "    </tr>\n",
       "  </tbody>\n",
       "</table>\n",
       "</div>"
      ],
      "text/plain": [
       "       InstanceType       Zone           Timestamp AvailabilityZone  \\\n",
       "304645  c5d.9xlarge  us-east-2 2019-05-27 05:42:00       us-east-2c   \n",
       "170409  x1e.8xlarge  us-west-2 2019-04-08 16:42:21       us-west-2b   \n",
       "\n",
       "        Price_Linux/UNIX Memory vCPUs  GPUs  Cost_linux_ondemand  \\\n",
       "304645            0.3639   72.0    36     0                1.728   \n",
       "170409            2.0016  976.0    32     0                6.672   \n",
       "\n",
       "        Cost_linux_reserved  \n",
       "304645                1.096  \n",
       "170409                4.112  "
      ]
     },
     "execution_count": 46,
     "metadata": {},
     "output_type": "execute_result"
    }
   ],
   "source": [
    "linux_full_dataset.sample(2)"
   ]
  },
  {
   "cell_type": "code",
   "execution_count": 47,
   "metadata": {},
   "outputs": [],
   "source": [
    "linux_full_dataset['AvailabilityZone_code'] = pd.Categorical(linux_full_dataset['AvailabilityZone']).codes\n",
    "linux_full_dataset['InstanceType_code'] = pd.Categorical(linux_full_dataset['InstanceType']).codes"
   ]
  },
  {
   "cell_type": "code",
   "execution_count": 48,
   "metadata": {},
   "outputs": [
    {
     "data": {
      "text/html": [
       "<div>\n",
       "<style scoped>\n",
       "    .dataframe tbody tr th:only-of-type {\n",
       "        vertical-align: middle;\n",
       "    }\n",
       "\n",
       "    .dataframe tbody tr th {\n",
       "        vertical-align: top;\n",
       "    }\n",
       "\n",
       "    .dataframe thead th {\n",
       "        text-align: right;\n",
       "    }\n",
       "</style>\n",
       "<table border=\"1\" class=\"dataframe\">\n",
       "  <thead>\n",
       "    <tr style=\"text-align: right;\">\n",
       "      <th></th>\n",
       "      <th>InstanceType</th>\n",
       "      <th>Zone</th>\n",
       "      <th>Timestamp</th>\n",
       "      <th>AvailabilityZone</th>\n",
       "      <th>Price_Linux/UNIX</th>\n",
       "      <th>Memory</th>\n",
       "      <th>vCPUs</th>\n",
       "      <th>GPUs</th>\n",
       "      <th>Cost_linux_ondemand</th>\n",
       "      <th>Cost_linux_reserved</th>\n",
       "      <th>AvailabilityZone_code</th>\n",
       "      <th>InstanceType_code</th>\n",
       "    </tr>\n",
       "  </thead>\n",
       "  <tbody>\n",
       "    <tr>\n",
       "      <th>313559</th>\n",
       "      <td>d2.xlarge</td>\n",
       "      <td>us-east-1</td>\n",
       "      <td>2019-05-29 12:54:00</td>\n",
       "      <td>us-east-1f</td>\n",
       "      <td>0.2070</td>\n",
       "      <td>30.5</td>\n",
       "      <td>4</td>\n",
       "      <td>0</td>\n",
       "      <td>0.6900</td>\n",
       "      <td>0.402</td>\n",
       "      <td>5</td>\n",
       "      <td>38</td>\n",
       "    </tr>\n",
       "    <tr>\n",
       "      <th>97720</th>\n",
       "      <td>p2.16xlarge</td>\n",
       "      <td>us-west-2</td>\n",
       "      <td>2019-04-22 08:31:54</td>\n",
       "      <td>us-west-2b</td>\n",
       "      <td>9.2382</td>\n",
       "      <td>768.0</td>\n",
       "      <td>64</td>\n",
       "      <td>16</td>\n",
       "      <td>14.4000</td>\n",
       "      <td>9.828</td>\n",
       "      <td>12</td>\n",
       "      <td>113</td>\n",
       "    </tr>\n",
       "    <tr>\n",
       "      <th>295968</th>\n",
       "      <td>t2.2xlarge</td>\n",
       "      <td>us-west-1</td>\n",
       "      <td>2019-05-26 19:41:00</td>\n",
       "      <td>us-west-1c</td>\n",
       "      <td>0.1325</td>\n",
       "      <td>32.0</td>\n",
       "      <td>8</td>\n",
       "      <td>0</td>\n",
       "      <td>0.4416</td>\n",
       "      <td>0.321</td>\n",
       "      <td>10</td>\n",
       "      <td>158</td>\n",
       "    </tr>\n",
       "  </tbody>\n",
       "</table>\n",
       "</div>"
      ],
      "text/plain": [
       "       InstanceType       Zone           Timestamp AvailabilityZone  \\\n",
       "313559    d2.xlarge  us-east-1 2019-05-29 12:54:00       us-east-1f   \n",
       "97720   p2.16xlarge  us-west-2 2019-04-22 08:31:54       us-west-2b   \n",
       "295968   t2.2xlarge  us-west-1 2019-05-26 19:41:00       us-west-1c   \n",
       "\n",
       "        Price_Linux/UNIX Memory vCPUs  GPUs  Cost_linux_ondemand  \\\n",
       "313559            0.2070   30.5     4     0               0.6900   \n",
       "97720             9.2382  768.0    64    16              14.4000   \n",
       "295968            0.1325   32.0     8     0               0.4416   \n",
       "\n",
       "        Cost_linux_reserved  AvailabilityZone_code  InstanceType_code  \n",
       "313559                0.402                      5                 38  \n",
       "97720                 9.828                     12                113  \n",
       "295968                0.321                     10                158  "
      ]
     },
     "execution_count": 48,
     "metadata": {},
     "output_type": "execute_result"
    }
   ],
   "source": [
    "linux_full_dataset.sample(3)"
   ]
  },
  {
   "cell_type": "code",
   "execution_count": 49,
   "metadata": {},
   "outputs": [],
   "source": [
    "linux_full_dataset['diff_spot_reser']=(linux_full_dataset['Cost_linux_reserved']-linux_full_dataset['Price_Linux/UNIX'])"
   ]
  },
  {
   "cell_type": "code",
   "execution_count": 50,
   "metadata": {},
   "outputs": [
    {
     "data": {
      "text/plain": [
       "count    260861.000000\n",
       "mean          0.470158\n",
       "std           1.130857\n",
       "min         -11.997000\n",
       "25%           0.057700\n",
       "50%           0.204100\n",
       "75%           0.660700\n",
       "max           9.851400\n",
       "Name: diff_spot_reser, dtype: float64"
      ]
     },
     "execution_count": 50,
     "metadata": {},
     "output_type": "execute_result"
    }
   ],
   "source": [
    "linux_full_dataset['diff_spot_reser'].describe()"
   ]
  },
  {
   "cell_type": "code",
   "execution_count": 51,
   "metadata": {},
   "outputs": [],
   "source": [
    "# linux_full_dataset.groupby(['InstanceType'], as_index=False)['diff_spot_reser'].mean().sort_values(by='InstanceType')"
   ]
  },
  {
   "cell_type": "code",
   "execution_count": null,
   "metadata": {},
   "outputs": [],
   "source": []
  },
  {
   "cell_type": "code",
   "execution_count": null,
   "metadata": {},
   "outputs": [],
   "source": []
  },
  {
   "cell_type": "code",
   "execution_count": null,
   "metadata": {},
   "outputs": [],
   "source": []
  },
  {
   "cell_type": "code",
   "execution_count": 52,
   "metadata": {},
   "outputs": [
    {
     "data": {
      "image/png": "[encoded data removed]",
      "text/plain": [
       "<Figure size 432x288 with 1 Axes>"
      ]
     },
     "metadata": {},
     "output_type": "display_data"
    }
   ],
   "source": [
    "import seaborn as sns; sns.set()\n",
    "ax = sns.scatterplot(x=\"Price_Linux/UNIX\", y=\"Cost_linux_reserved\",hue=\"Zone\", data=linux_full_dataset)"
   ]
  },
  {
   "cell_type": "code",
   "execution_count": null,
   "metadata": {},
   "outputs": [],
   "source": []
  },
  {
   "cell_type": "markdown",
   "metadata": {},
   "source": [
    "### Data discovery found in https://aws.amazon.com/ec2/spot/instance-advisor/\n",
    "\n"
   ]
  },
  {
   "cell_type": "code",
   "execution_count": null,
   "metadata": {},
   "outputs": [],
   "source": [
    "frequency = pd.read_csv('aws_instance_freq.csv', low_memory=False)"
   ]
  },
  {
   "cell_type": "markdown",
   "metadata": {},
   "source": [
    "# BASIC PREP"
   ]
  },
  {
   "cell_type": "code",
   "execution_count": 53,
   "metadata": {},
   "outputs": [
    {
     "data": {
      "text/plain": [
       "Index(['InstanceType', 'Zone', 'Timestamp', 'AvailabilityZone',\n",
       "       'Price_Linux/UNIX', 'Memory', 'vCPUs', 'GPUs', 'Cost_linux_ondemand',\n",
       "       'Cost_linux_reserved', 'AvailabilityZone_code', 'InstanceType_code',\n",
       "       'diff_spot_reser'],\n",
       "      dtype='object')"
      ]
     },
     "execution_count": 53,
     "metadata": {},
     "output_type": "execute_result"
    }
   ],
   "source": [
    "linux_full_dataset.columns"
   ]
  },
  {
   "cell_type": "code",
   "execution_count": 54,
   "metadata": {},
   "outputs": [
    {
     "name": "stdout",
     "output_type": "stream",
     "text": [
      "(260861, 9)\n"
     ]
    },
    {
     "data": {
      "text/html": [
       "<div>\n",
       "<style scoped>\n",
       "    .dataframe tbody tr th:only-of-type {\n",
       "        vertical-align: middle;\n",
       "    }\n",
       "\n",
       "    .dataframe tbody tr th {\n",
       "        vertical-align: top;\n",
       "    }\n",
       "\n",
       "    .dataframe thead th {\n",
       "        text-align: right;\n",
       "    }\n",
       "</style>\n",
       "<table border=\"1\" class=\"dataframe\">\n",
       "  <thead>\n",
       "    <tr style=\"text-align: right;\">\n",
       "      <th></th>\n",
       "      <th>Timestamp</th>\n",
       "      <th>Price_Linux/UNIX</th>\n",
       "      <th>Memory</th>\n",
       "      <th>vCPUs</th>\n",
       "      <th>GPUs</th>\n",
       "      <th>Cost_linux_ondemand</th>\n",
       "      <th>Cost_linux_reserved</th>\n",
       "      <th>InstanceType_code</th>\n",
       "      <th>AvailabilityZone_code</th>\n",
       "    </tr>\n",
       "  </thead>\n",
       "  <tbody>\n",
       "    <tr>\n",
       "      <th>195231</th>\n",
       "      <td>2019-05-11 04:04:00</td>\n",
       "      <td>0.3562</td>\n",
       "      <td>32.0</td>\n",
       "      <td>16</td>\n",
       "      <td>0</td>\n",
       "      <td>0.7680</td>\n",
       "      <td>0.484</td>\n",
       "      <td>25</td>\n",
       "      <td>3</td>\n",
       "    </tr>\n",
       "    <tr>\n",
       "      <th>249881</th>\n",
       "      <td>2019-05-02 16:42:00</td>\n",
       "      <td>0.1114</td>\n",
       "      <td>32.0</td>\n",
       "      <td>8</td>\n",
       "      <td>0</td>\n",
       "      <td>0.3712</td>\n",
       "      <td>0.230</td>\n",
       "      <td>158</td>\n",
       "      <td>5</td>\n",
       "    </tr>\n",
       "  </tbody>\n",
       "</table>\n",
       "</div>"
      ],
      "text/plain": [
       "                 Timestamp  Price_Linux/UNIX Memory vCPUs  GPUs  \\\n",
       "195231 2019-05-11 04:04:00            0.3562   32.0    16     0   \n",
       "249881 2019-05-02 16:42:00            0.1114   32.0     8     0   \n",
       "\n",
       "        Cost_linux_ondemand  Cost_linux_reserved  InstanceType_code  \\\n",
       "195231               0.7680                0.484                 25   \n",
       "249881               0.3712                0.230                158   \n",
       "\n",
       "        AvailabilityZone_code  \n",
       "195231                      3  \n",
       "249881                      5  "
      ]
     },
     "execution_count": 54,
     "metadata": {},
     "output_type": "execute_result"
    }
   ],
   "source": [
    "test_lin = linux_full_dataset[['Timestamp', 'Price_Linux/UNIX', 'Memory', 'vCPUs', 'GPUs', \n",
    "                               'Cost_linux_ondemand','Cost_linux_reserved', 'InstanceType_code', 'AvailabilityZone_code']].drop_duplicates()\n",
    "\n",
    "print(test_lin.shape)\n",
    "test_lin.sample(2)"
   ]
  },
  {
   "cell_type": "code",
   "execution_count": null,
   "metadata": {},
   "outputs": [],
   "source": []
  },
  {
   "cell_type": "code",
   "execution_count": 55,
   "metadata": {},
   "outputs": [],
   "source": [
    "# convert series to supervised learning\n",
    "def series_to_supervised(data, n_in=1, n_out=1, dropnan=True):\n",
    "\tn_vars = 1 if type(data) is list else data.shape[1]\n",
    "\tdf = pd.DataFrame(data)\n",
    "\tcols, names = list(), list()\n",
    "\t# input sequence (t-n, ... t-1)\n",
    "\tfor i in range(n_in, 0, -1):\n",
    "\t\tcols.append(df.shift(i))\n",
    "\t\tnames += [('var%d(t-%d)' % (j+1, i)) for j in range(n_vars)]\n",
    "\t# forecast sequence (t, t+1, ... t+n)\n",
    "\tfor i in range(0, n_out):\n",
    "\t\tcols.append(df.shift(-i))\n",
    "\t\tif i == 0:\n",
    "\t\t\tnames += [('var%d(t)' % (j+1)) for j in range(n_vars)]\n",
    "\t\telse:\n",
    "\t\t\tnames += [('var%d(t+%d)' % (j+1, i)) for j in range(n_vars)]\n",
    "\t# put it all together\n",
    "\tagg = pd.concat(cols, axis=1)\n",
    "\tagg.columns = names\n",
    "\t# drop rows with NaN values\n",
    "\tif dropnan:\n",
    "\t\tagg.dropna(inplace=True)\n",
    "\treturn agg"
   ]
  },
  {
   "cell_type": "code",
   "execution_count": 56,
   "metadata": {},
   "outputs": [
    {
     "data": {
      "text/html": [
       "<div>\n",
       "<style scoped>\n",
       "    .dataframe tbody tr th:only-of-type {\n",
       "        vertical-align: middle;\n",
       "    }\n",
       "\n",
       "    .dataframe tbody tr th {\n",
       "        vertical-align: top;\n",
       "    }\n",
       "\n",
       "    .dataframe thead th {\n",
       "        text-align: right;\n",
       "    }\n",
       "</style>\n",
       "<table border=\"1\" class=\"dataframe\">\n",
       "  <thead>\n",
       "    <tr style=\"text-align: right;\">\n",
       "      <th></th>\n",
       "      <th>Timestamp</th>\n",
       "      <th>Price_Linux/UNIX</th>\n",
       "      <th>Memory</th>\n",
       "      <th>vCPUs</th>\n",
       "      <th>GPUs</th>\n",
       "      <th>Cost_linux_ondemand</th>\n",
       "      <th>Cost_linux_reserved</th>\n",
       "      <th>InstanceType_code</th>\n",
       "      <th>AvailabilityZone_code</th>\n",
       "    </tr>\n",
       "  </thead>\n",
       "  <tbody>\n",
       "    <tr>\n",
       "      <th>3777</th>\n",
       "      <td>2019-03-31 20:33:00</td>\n",
       "      <td>0.0338</td>\n",
       "      <td>16.0</td>\n",
       "      <td>2</td>\n",
       "      <td>0</td>\n",
       "      <td>0.162</td>\n",
       "      <td>0.104</td>\n",
       "      <td>154</td>\n",
       "      <td>9</td>\n",
       "    </tr>\n",
       "    <tr>\n",
       "      <th>129382</th>\n",
       "      <td>2019-04-03 22:29:01</td>\n",
       "      <td>0.3530</td>\n",
       "      <td>122.0</td>\n",
       "      <td>16</td>\n",
       "      <td>0</td>\n",
       "      <td>1.064</td>\n",
       "      <td>0.672</td>\n",
       "      <td>127</td>\n",
       "      <td>11</td>\n",
       "    </tr>\n",
       "  </tbody>\n",
       "</table>\n",
       "</div>"
      ],
      "text/plain": [
       "                 Timestamp  Price_Linux/UNIX Memory vCPUs  GPUs  \\\n",
       "3777   2019-03-31 20:33:00            0.0338   16.0     2     0   \n",
       "129382 2019-04-03 22:29:01            0.3530  122.0    16     0   \n",
       "\n",
       "        Cost_linux_ondemand  Cost_linux_reserved  InstanceType_code  \\\n",
       "3777                  0.162                0.104                154   \n",
       "129382                1.064                0.672                127   \n",
       "\n",
       "        AvailabilityZone_code  \n",
       "3777                        9  \n",
       "129382                     11  "
      ]
     },
     "execution_count": 56,
     "metadata": {},
     "output_type": "execute_result"
    }
   ],
   "source": [
    "test_lin.sample(2)"
   ]
  },
  {
   "cell_type": "code",
   "execution_count": 57,
   "metadata": {},
   "outputs": [
    {
     "name": "stdout",
     "output_type": "stream",
     "text": [
      "MAX TIME: 2019-05-30 12:16:28\n",
      "MIN TIME: 2019-03-30 11:00:00\n"
     ]
    }
   ],
   "source": [
    "print(\"MAX TIME:\", test_lin.Timestamp.max())\n",
    "print(\"MIN TIME:\", test_lin.Timestamp.min())"
   ]
  },
  {
   "cell_type": "code",
   "execution_count": 58,
   "metadata": {},
   "outputs": [
    {
     "data": {
      "text/plain": [
       "Index(['Timestamp', 'Price_Linux/UNIX', 'Memory', 'vCPUs', 'GPUs',\n",
       "       'Cost_linux_ondemand', 'Cost_linux_reserved', 'InstanceType_code',\n",
       "       'AvailabilityZone_code'],\n",
       "      dtype='object')"
      ]
     },
     "execution_count": 58,
     "metadata": {},
     "output_type": "execute_result"
    }
   ],
   "source": [
    "test_lin.columns"
   ]
  },
  {
   "cell_type": "code",
   "execution_count": 59,
   "metadata": {},
   "outputs": [],
   "source": [
    "test_lin = test_lin.sort_values('Timestamp')"
   ]
  },
  {
   "cell_type": "code",
   "execution_count": 60,
   "metadata": {},
   "outputs": [
    {
     "data": {
      "image/png": "[encoded data removed]",
      "text/plain": [
       "<Figure size 1296x648 with 1 Axes>"
      ]
     },
     "metadata": {},
     "output_type": "display_data"
    }
   ],
   "source": [
    "plt.figure(figsize = (18,9))\n",
    "plt.plot(range(test_lin.shape[0]),(test_lin['Price_Linux/UNIX']))\n",
    "plt.xticks(range(0,test_lin.shape[0],500),test_lin['Timestamp'].loc[::500],rotation=45)\n",
    "plt.xlabel('Date Time',fontsize=18)\n",
    "plt.ylabel('Spot Price',fontsize=18)\n",
    "plt.show()"
   ]
  },
  {
   "cell_type": "code",
   "execution_count": 61,
   "metadata": {},
   "outputs": [],
   "source": [
    "Spot_Price = test_lin.loc[:,'Price_Linux/UNIX'].as_matrix()\n",
    "train_data = Spot_Price[:1100]\n",
    "test_data = Spot_Price[1100:]"
   ]
  },
  {
   "cell_type": "code",
   "execution_count": 62,
   "metadata": {},
   "outputs": [],
   "source": [
    "# Scale the data to be between 0 and 1\n",
    "# When scaling remember! You normalize both test and train data with respect to training data\n",
    "# Because you are not supposed to have access to test data\n",
    "scaler = MinMaxScaler()\n",
    "train_data = train_data.reshape(-1,1)\n",
    "test_data = test_data.reshape(-1,1)"
   ]
  },
  {
   "cell_type": "code",
   "execution_count": 63,
   "metadata": {},
   "outputs": [],
   "source": [
    "# # Train the Scaler with training data and smooth data\n",
    "smoothing_window_size = 11000\n",
    "for di in range(0,11000,smoothing_window_size):\n",
    "    scaler.fit(train_data[di:di+smoothing_window_size,:])\n",
    "    train_data[di:di+smoothing_window_size,:] = scaler.transform(train_data[di:di+smoothing_window_size,:])\n",
    "    \n",
    "    \n",
    "# # You normalize the last bit of remaining data\n",
    "# scaler.fit(train_data[di+smoothing_window_size:,:])\n",
    "# train_data[di+smoothing_window_size:,:] = scaler.transform(train_data[di+smoothing_window_size:,:])"
   ]
  },
  {
   "cell_type": "code",
   "execution_count": 64,
   "metadata": {},
   "outputs": [],
   "source": [
    "# Reshape both train and test data\n",
    "train_data = train_data.reshape(-1)\n",
    "\n",
    "# Normalize test data\n",
    "test_data = scaler.transform(test_data).reshape(-1)"
   ]
  },
  {
   "cell_type": "code",
   "execution_count": 65,
   "metadata": {},
   "outputs": [],
   "source": [
    "# Now perform exponential moving average smoothing\n",
    "# So the data will have a smoother curve than the original ragged data\n",
    "EMA = 0.0\n",
    "gamma = 0.1\n",
    "for ti in range(1100):\n",
    "    EMA = gamma*train_data[ti] + (1-gamma)*EMA\n",
    "    train_data[ti] = EMA\n",
    "\n",
    "# Used for visualization and test purposes\n",
    "all_mid_data = np.concatenate([train_data,test_data],axis=0)"
   ]
  },
  {
   "cell_type": "code",
   "execution_count": 66,
   "metadata": {},
   "outputs": [
    {
     "name": "stdout",
     "output_type": "stream",
     "text": [
      "MSE error for standard averaging: 0.00041\n"
     ]
    }
   ],
   "source": [
    "import time\n",
    "from datetime import datetime, date, time, timedelta\n",
    "window_size = 100\n",
    "N = train_data.size\n",
    "std_avg_predictions = []\n",
    "std_avg_x = []\n",
    "mse_errors = []\n",
    "\n",
    "for pred_idx in range(window_size,N):\n",
    "\n",
    "    if pred_idx >= N:\n",
    "#         date = dt.datetime.strptime(k, '%Y-%m-%d').date() + dt.timedelta(days=1)\n",
    "        date = dt.datetime.strptime('Date_Time', '%Y-%m-%d %H:%M:%S').date() + dt.timedelta(days=1)\n",
    "    else:\n",
    "        date = test_lin.loc[:,'Timestamp']\n",
    "\n",
    "    std_avg_predictions.append(np.mean(train_data[pred_idx-window_size:pred_idx]))\n",
    "    mse_errors.append((std_avg_predictions[-1]-train_data[pred_idx])**2)\n",
    "    std_avg_x.append(date)\n",
    "\n",
    "print('MSE error for standard averaging: %.5f'%(0.5*np.mean(mse_errors)))"
   ]
  },
  {
   "cell_type": "code",
   "execution_count": 67,
   "metadata": {},
   "outputs": [
    {
     "data": {
      "image/png": "[encoded data removed]",
      "text/plain": [
       "<Figure size 1296x648 with 1 Axes>"
      ]
     },
     "metadata": {},
     "output_type": "display_data"
    }
   ],
   "source": [
    "plt.figure(figsize = (18,9))\n",
    "plt.plot(range(test_lin.shape[0]),all_mid_data,color='b',label='True')\n",
    "plt.plot(range(window_size,N),std_avg_predictions,color='orange',label='Prediction')\n",
    "#plt.xticks(range(0,df.shape[0],50),df['Date'].loc[::50],rotation=45)\n",
    "plt.xlabel('Date')\n",
    "plt.ylabel('Price')\n",
    "plt.legend(fontsize=18)\n",
    "plt.show()"
   ]
  },
  {
   "cell_type": "code",
   "execution_count": 68,
   "metadata": {},
   "outputs": [
    {
     "name": "stdout",
     "output_type": "stream",
     "text": [
      "MSE error for EMA averaging: 0.00006\n"
     ]
    }
   ],
   "source": [
    "window_size = 100\n",
    "N = train_data.size\n",
    "\n",
    "run_avg_predictions = []\n",
    "run_avg_x = []\n",
    "\n",
    "mse_errors = []\n",
    "\n",
    "running_mean = 0.0\n",
    "run_avg_predictions.append(running_mean)\n",
    "\n",
    "decay = 0.5\n",
    "\n",
    "for pred_idx in range(1,N):\n",
    "\n",
    "    running_mean = running_mean*decay + (1.0-decay)*train_data[pred_idx-1]\n",
    "    run_avg_predictions.append(running_mean)\n",
    "    mse_errors.append((run_avg_predictions[-1]-train_data[pred_idx])**2)\n",
    "    run_avg_x.append(date)\n",
    "\n",
    "print('MSE error for EMA averaging: %.5f'%(0.5*np.mean(mse_errors)))"
   ]
  },
  {
   "cell_type": "code",
   "execution_count": 69,
   "metadata": {},
   "outputs": [
    {
     "data": {
      "image/png": "[encoded data removed]",
      "text/plain": [
       "<Figure size 1296x648 with 1 Axes>"
      ]
     },
     "metadata": {},
     "output_type": "display_data"
    }
   ],
   "source": [
    "plt.figure(figsize = (18,9))\n",
    "plt.plot(range(test_lin.shape[0]),all_mid_data,color='b',label='True')\n",
    "plt.plot(range(0,N),run_avg_predictions,color='orange', label='Prediction')\n",
    "#plt.xticks(range(0,df.shape[0],50),df['Date'].loc[::50],rotation=45)\n",
    "plt.xlabel('Date')\n",
    "plt.ylabel('Mid Price')\n",
    "plt.legend(fontsize=18)\n",
    "plt.show()"
   ]
  },
  {
   "cell_type": "markdown",
   "metadata": {},
   "source": [
    "# LSTM\n",
    "\n",
    "- https://www.datacamp.com/community/tutorials/lstm-python-stock-market"
   ]
  },
  {
   "cell_type": "code",
   "execution_count": 70,
   "metadata": {},
   "outputs": [],
   "source": [
    "class DataGeneratorSeq(object):\n",
    "\n",
    "    def __init__(self,prices,batch_size,num_unroll):\n",
    "        self._prices = prices\n",
    "        self._prices_length = len(self._prices) - num_unroll\n",
    "        self._batch_size = batch_size\n",
    "        self._num_unroll = num_unroll\n",
    "        self._segments = self._prices_length //self._batch_size\n",
    "        self._cursor = [offset * self._segments for offset in range(self._batch_size)]\n",
    "\n",
    "    def next_batch(self):\n",
    "\n",
    "        batch_data = np.zeros((self._batch_size),dtype=np.float32)\n",
    "        batch_labels = np.zeros((self._batch_size),dtype=np.float32)\n",
    "\n",
    "        for b in range(self._batch_size):\n",
    "            if self._cursor[b]+1>=self._prices_length:\n",
    "                #self._cursor[b] = b * self._segments\n",
    "                self._cursor[b] = np.random.randint(0,(b+1)*self._segments)\n",
    "\n",
    "            batch_data[b] = self._prices[self._cursor[b]]\n",
    "            batch_labels[b]= self._prices[self._cursor[b]+np.random.randint(0,5)]\n",
    "\n",
    "            self._cursor[b] = (self._cursor[b]+1)%self._prices_length\n",
    "\n",
    "        return batch_data,batch_labels\n",
    "\n",
    "    def unroll_batches(self):\n",
    "\n",
    "        unroll_data,unroll_labels = [],[]\n",
    "        init_data, init_label = None,None\n",
    "        for ui in range(self._num_unroll):\n",
    "\n",
    "            data, labels = self.next_batch()    \n",
    "\n",
    "            unroll_data.append(data)\n",
    "            unroll_labels.append(labels)\n",
    "\n",
    "        return unroll_data, unroll_labels\n",
    "\n",
    "    def reset_indices(self):\n",
    "        for b in range(self._batch_size):\n",
    "            self._cursor[b] = np.random.randint(0,min((b+1)*self._segments,self._prices_length-1))"
   ]
  },
  {
   "cell_type": "code",
   "execution_count": 71,
   "metadata": {},
   "outputs": [
    {
     "name": "stdout",
     "output_type": "stream",
     "text": [
      "\n",
      "\n",
      "Unrolled index 0\n",
      "\tInputs:  [0.00067093 0.02909584 0.00437126 0.10440919 0.03643211]\n",
      "\n",
      "\tOutput: [0.00273363 0.02146235 0.00325155 0.0726557  0.03659794]\n",
      "\n",
      "\n",
      "Unrolled index 1\n",
      "\tInputs:  [0.00127477 0.02798437 0.00413471 0.0958311  0.03651939]\n",
      "\n",
      "\tOutput: [0.00273363 0.02378831 0.00392182 0.08892499 0.03651939]\n",
      "\n",
      "\n",
      "Unrolled index 2\n",
      "\tInputs:  [0.00204379 0.02637272 0.00392182 0.08892499 0.03659794]\n",
      "\n",
      "\tOutput: [0.00273363 0.03340885 0.0026782  0.06581531 0.03659794]\n",
      "\n",
      "\n",
      "Unrolled index 3\n",
      "\tInputs:  [0.00204126 0.02378831 0.00356904 0.08025613 0.03666863]\n",
      "\n",
      "\tOutput: [0.00249428 0.03340885 0.0029658  0.0726557  0.03673226]\n",
      "\n",
      "\n",
      "Unrolled index 4\n",
      "\tInputs:  [0.00273363 0.02146235 0.00325155 0.0726557  0.03673226]\n",
      "\n",
      "\tOutput: [0.00273363 0.0397975  0.00241935 0.06581531 0.03673226]\n"
     ]
    }
   ],
   "source": [
    "dg = DataGeneratorSeq(train_data,5,5)\n",
    "u_data, u_labels = dg.unroll_batches()\n",
    "\n",
    "for ui,(dat,lbl) in enumerate(zip(u_data,u_labels)):   \n",
    "    print('\\n\\nUnrolled index %d'%ui)\n",
    "    dat_ind = dat\n",
    "    lbl_ind = lbl\n",
    "    print('\\tInputs: ',dat )\n",
    "    print('\\n\\tOutput:',lbl)"
   ]
  },
  {
   "cell_type": "code",
   "execution_count": 72,
   "metadata": {},
   "outputs": [],
   "source": [
    "# from pandas_datareader import data\n",
    "import urllib.request, json\n",
    "import os\n",
    "import numpy.core.multiarray\n",
    "import tensorflow as tf # This code has been tested with TensorFlow 1.6\n",
    "from sklearn.preprocessing import MinMaxScaler"
   ]
  },
  {
   "cell_type": "code",
   "execution_count": 73,
   "metadata": {},
   "outputs": [],
   "source": [
    "D = 1 # Dimensionality of the data. Since your data is 1-D this would be 1\n",
    "num_unrollings = 50 # Number of time steps you look into the future.\n",
    "batch_size = 500 # Number of samples in a batch\n",
    "num_nodes = [200,200,150] # Number of hidden nodes in each layer of the deep LSTM stack we're using\n",
    "n_layers = len(num_nodes) # number of layers\n",
    "dropout = 0.2 # dropout amount\n",
    "\n",
    "tf.reset_default_graph() # This is important in case you run this multiple times"
   ]
  },
  {
   "cell_type": "code",
   "execution_count": 74,
   "metadata": {},
   "outputs": [],
   "source": [
    "# Input data.\n",
    "train_inputs, train_outputs = [],[]\n",
    "\n",
    "# You unroll the input over time defining placeholders for each time step\n",
    "for ui in range(num_unrollings):\n",
    "    train_inputs.append(tf.placeholder(tf.float32, shape=[batch_size,D],name='train_inputs_%d'%ui))\n",
    "    train_outputs.append(tf.placeholder(tf.float32, shape=[batch_size,1], name = 'train_outputs_%d'%ui))"
   ]
  },
  {
   "cell_type": "code",
   "execution_count": 75,
   "metadata": {},
   "outputs": [
    {
     "name": "stdout",
     "output_type": "stream",
     "text": [
      "\n",
      "WARNING: The TensorFlow contrib module will not be included in TensorFlow 2.0.\n",
      "For more information, please see:\n",
      "  * https://github.com/tensorflow/community/blob/master/rfcs/20180907-contrib-sunset.md\n",
      "  * https://github.com/tensorflow/addons\n",
      "If you depend on functionality not listed there, please file an issue.\n",
      "\n",
      "WARNING:tensorflow:From <ipython-input-75-c24fa21357f4>:6: LSTMCell.__init__ (from tensorflow.python.ops.rnn_cell_impl) is deprecated and will be removed in a future version.\n",
      "Instructions for updating:\n",
      "This class is equivalent as tf.keras.layers.LSTMCell, and will be replaced by that in Tensorflow 2.0.\n",
      "WARNING:tensorflow:From <ipython-input-75-c24fa21357f4>:11: MultiRNNCell.__init__ (from tensorflow.python.ops.rnn_cell_impl) is deprecated and will be removed in a future version.\n",
      "Instructions for updating:\n",
      "This class is equivalent as tf.keras.layers.StackedRNNCells, and will be replaced by that in Tensorflow 2.0.\n",
      "WARNING:tensorflow:From /Users/Yejur/anaconda3/lib/python3.7/site-packages/tensorflow/python/framework/op_def_library.py:263: colocate_with (from tensorflow.python.framework.ops) is deprecated and will be removed in a future version.\n",
      "Instructions for updating:\n",
      "Colocations handled automatically by placer.\n"
     ]
    }
   ],
   "source": [
    "lstm_cells = [\n",
    "    tf.contrib.rnn.LSTMCell(num_units=num_nodes[li],\n",
    "                            state_is_tuple=True,\n",
    "                            initializer= tf.contrib.layers.xavier_initializer()\n",
    "                           )\n",
    " for li in range(n_layers)]\n",
    "\n",
    "drop_lstm_cells = [tf.contrib.rnn.DropoutWrapper(\n",
    "    lstm, input_keep_prob=1.0,output_keep_prob=1.0-dropout, state_keep_prob=1.0-dropout\n",
    ") for lstm in lstm_cells]\n",
    "drop_multi_cell = tf.contrib.rnn.MultiRNNCell(drop_lstm_cells)\n",
    "multi_cell = tf.contrib.rnn.MultiRNNCell(lstm_cells)\n",
    "\n",
    "w = tf.get_variable('w',shape=[num_nodes[-1], 1], initializer=tf.contrib.layers.xavier_initializer())\n",
    "b = tf.get_variable('b',initializer=tf.random_uniform([1],-0.1,0.1))"
   ]
  },
  {
   "cell_type": "code",
   "execution_count": 76,
   "metadata": {},
   "outputs": [
    {
     "name": "stdout",
     "output_type": "stream",
     "text": [
      "WARNING:tensorflow:From <ipython-input-76-5637f8ffdb96>:16: dynamic_rnn (from tensorflow.python.ops.rnn) is deprecated and will be removed in a future version.\n",
      "Instructions for updating:\n",
      "Please use `keras.layers.RNN(cell)`, which is equivalent to this API\n",
      "WARNING:tensorflow:From /Users/Yejur/anaconda3/lib/python3.7/site-packages/tensorflow/python/ops/rnn_cell_impl.py:1259: calling dropout (from tensorflow.python.ops.nn_ops) with keep_prob is deprecated and will be removed in a future version.\n",
      "Instructions for updating:\n",
      "Please use `rate` instead of `keep_prob`. Rate should be set to `rate = 1 - keep_prob`.\n"
     ]
    }
   ],
   "source": [
    "# Create cell state and hidden state variables to maintain the state of the LSTM\n",
    "c, h = [],[]\n",
    "initial_state = []\n",
    "for li in range(n_layers):\n",
    "  c.append(tf.Variable(tf.zeros([batch_size, num_nodes[li]]), trainable=False))\n",
    "  h.append(tf.Variable(tf.zeros([batch_size, num_nodes[li]]), trainable=False))\n",
    "  initial_state.append(tf.contrib.rnn.LSTMStateTuple(c[li], h[li]))\n",
    "\n",
    "# Do several tensor transofmations, because the function dynamic_rnn requires the output to be of\n",
    "# a specific format. Read more at: https://www.tensorflow.org/api_docs/python/tf/nn/dynamic_rnn\n",
    "all_inputs = tf.concat([tf.expand_dims(t,0) for t in train_inputs],axis=0)\n",
    "\n",
    "# all_outputs is [seq_length, batch_size, num_nodes]\n",
    "all_lstm_outputs, state = tf.nn.dynamic_rnn(\n",
    "    drop_multi_cell, all_inputs, initial_state=tuple(initial_state),\n",
    "    time_major = True, dtype=tf.float32)\n",
    "\n",
    "all_lstm_outputs = tf.reshape(all_lstm_outputs, [batch_size*num_unrollings,num_nodes[-1]])\n",
    "\n",
    "all_outputs = tf.nn.xw_plus_b(all_lstm_outputs,w,b)\n",
    "\n",
    "split_outputs = tf.split(all_outputs,num_unrollings,axis=0)"
   ]
  },
  {
   "cell_type": "code",
   "execution_count": 77,
   "metadata": {},
   "outputs": [
    {
     "name": "stdout",
     "output_type": "stream",
     "text": [
      "Defining training Loss\n",
      "Learning rate decay operations\n",
      "TF Optimization operations\n",
      "\tAll done\n"
     ]
    }
   ],
   "source": [
    "# When calculating the loss you need to be careful about the exact form, because you calculate\n",
    "# loss of all the unrolled steps at the same time\n",
    "# Therefore, take the mean error or each batch and get the sum of that over all the unrolled steps\n",
    "\n",
    "print('Defining training Loss')\n",
    "loss = 0.0\n",
    "with tf.control_dependencies([tf.assign(c[li], state[li][0]) for li in range(n_layers)]+\n",
    "                             [tf.assign(h[li], state[li][1]) for li in range(n_layers)]):\n",
    "  for ui in range(num_unrollings):\n",
    "    loss += tf.reduce_mean(0.5*(split_outputs[ui]-train_outputs[ui])**2)\n",
    "\n",
    "print('Learning rate decay operations')\n",
    "global_step = tf.Variable(0, trainable=False)\n",
    "inc_gstep = tf.assign(global_step,global_step + 1)\n",
    "tf_learning_rate = tf.placeholder(shape=None,dtype=tf.float32)\n",
    "tf_min_learning_rate = tf.placeholder(shape=None,dtype=tf.float32)\n",
    "\n",
    "learning_rate = tf.maximum(\n",
    "    tf.train.exponential_decay(tf_learning_rate, global_step, decay_steps=1, decay_rate=0.5, staircase=True),\n",
    "    tf_min_learning_rate)\n",
    "\n",
    "# Optimizer.\n",
    "print('TF Optimization operations')\n",
    "optimizer = tf.train.AdamOptimizer(learning_rate)\n",
    "gradients, v = zip(*optimizer.compute_gradients(loss))\n",
    "gradients, _ = tf.clip_by_global_norm(gradients, 5.0)\n",
    "optimizer = optimizer.apply_gradients(\n",
    "    zip(gradients, v))\n",
    "\n",
    "print('\\tAll done')"
   ]
  },
  {
   "cell_type": "code",
   "execution_count": 78,
   "metadata": {},
   "outputs": [
    {
     "name": "stdout",
     "output_type": "stream",
     "text": [
      "Defining prediction related TF functions\n",
      "\tAll done\n"
     ]
    }
   ],
   "source": [
    "print('Defining prediction related TF functions')\n",
    "\n",
    "sample_inputs = tf.placeholder(tf.float32, shape=[1,D])\n",
    "\n",
    "# Maintaining LSTM state for prediction stage\n",
    "sample_c, sample_h, initial_sample_state = [],[],[]\n",
    "for li in range(n_layers):\n",
    "  sample_c.append(tf.Variable(tf.zeros([1, num_nodes[li]]), trainable=False))\n",
    "  sample_h.append(tf.Variable(tf.zeros([1, num_nodes[li]]), trainable=False))\n",
    "  initial_sample_state.append(tf.contrib.rnn.LSTMStateTuple(sample_c[li],sample_h[li]))\n",
    "\n",
    "reset_sample_states = tf.group(*[tf.assign(sample_c[li],tf.zeros([1, num_nodes[li]])) for li in range(n_layers)],\n",
    "                               *[tf.assign(sample_h[li],tf.zeros([1, num_nodes[li]])) for li in range(n_layers)])\n",
    "\n",
    "sample_outputs, sample_state = tf.nn.dynamic_rnn(multi_cell, tf.expand_dims(sample_inputs,0),\n",
    "                                   initial_state=tuple(initial_sample_state),\n",
    "                                   time_major = True,\n",
    "                                   dtype=tf.float32)\n",
    "\n",
    "with tf.control_dependencies([tf.assign(sample_c[li],sample_state[li][0]) for li in range(n_layers)]+\n",
    "                              [tf.assign(sample_h[li],sample_state[li][1]) for li in range(n_layers)]):  \n",
    "  sample_prediction = tf.nn.xw_plus_b(tf.reshape(sample_outputs,[1,-1]), w, b)\n",
    "\n",
    "print('\\tAll done')"
   ]
  },
  {
   "cell_type": "code",
   "execution_count": null,
   "metadata": {},
   "outputs": [
    {
     "name": "stdout",
     "output_type": "stream",
     "text": [
      "Initialized\n"
     ]
    }
   ],
   "source": [
    "epochs = 30\n",
    "valid_summary = 1 # Interval you make test predictions\n",
    "\n",
    "n_predict_once = 50 # Number of steps you continously predict for\n",
    "\n",
    "train_seq_length = train_data.size # Full length of the training data\n",
    "\n",
    "train_mse_ot = [] # Accumulate Train losses\n",
    "test_mse_ot = [] # Accumulate Test loss\n",
    "predictions_over_time = [] # Accumulate predictions\n",
    "\n",
    "session = tf.InteractiveSession()\n",
    "\n",
    "tf.global_variables_initializer().run()\n",
    "\n",
    "# Used for decaying learning rate\n",
    "loss_nondecrease_count = 0\n",
    "loss_nondecrease_threshold = 2 # If the test error hasn't increased in this many steps, decrease learning rate\n",
    "\n",
    "print('Initialized')\n",
    "average_loss = 0\n",
    "\n",
    "# Define data generator\n",
    "data_gen = DataGeneratorSeq(train_data,batch_size,num_unrollings)\n",
    "\n",
    "x_axis_seq = []\n",
    "\n",
    "# Points you start your test predictions from\n",
    "test_points_seq = np.arange(1100,1200,50).tolist()\n",
    "\n",
    "for ep in range(epochs):       \n",
    "\n",
    "    # ========================= Training =====================================\n",
    "    for step in range(train_seq_length//batch_size):\n",
    "\n",
    "        u_data, u_labels = data_gen.unroll_batches()\n",
    "\n",
    "        feed_dict = {}\n",
    "        for ui,(dat,lbl) in enumerate(zip(u_data,u_labels)):            \n",
    "            feed_dict[train_inputs[ui]] = dat.reshape(-1,1)\n",
    "            feed_dict[train_outputs[ui]] = lbl.reshape(-1,1)\n",
    "\n",
    "        feed_dict.update({tf_learning_rate: 0.0001, tf_min_learning_rate:0.000001})\n",
    "\n",
    "        _, l = session.run([optimizer, loss], feed_dict=feed_dict)\n",
    "        \n",
    "        average_loss += l\n",
    "\n",
    "    # ============================ Validation ==============================\n",
    "    if (ep+1) % valid_summary == 0:\n",
    "\n",
    "      average_loss = average_loss/(valid_summary*(train_seq_length//batch_size))\n",
    "\n",
    "      # The average loss\n",
    "      if (ep+1)%valid_summary==0:\n",
    "        print('Average loss at step %d: %f' % (ep+1, average_loss))\n",
    "\n",
    "      train_mse_ot.append(average_loss)\n",
    "\n",
    "      average_loss = 0 # reset loss\n",
    "\n",
    "      predictions_seq = []\n",
    "\n",
    "      mse_test_loss_seq = []\n",
    "\n",
    "      # ===================== Updating State and Making Predicitons ========================\n",
    "      for w_i in test_points_seq:\n",
    "        mse_test_loss = 0.0\n",
    "        our_predictions = []\n",
    "\n",
    "        if (ep+1)-valid_summary==0:\n",
    "          # Only calculate x_axis values in the first validation epoch\n",
    "          x_axis=[]\n",
    "\n",
    "        # Feed in the recent past behavior of stock prices\n",
    "        # to make predictions from that point onwards\n",
    "        for tr_i in range(w_i-num_unrollings+1,w_i-1):\n",
    "          current_price = all_mid_data[tr_i]\n",
    "          feed_dict[sample_inputs] = np.array(current_price).reshape(1,1)    \n",
    "          _ = session.run(sample_prediction,feed_dict=feed_dict)\n",
    "\n",
    "        feed_dict = {}\n",
    "\n",
    "        current_price = all_mid_data[w_i-1]\n",
    "\n",
    "        feed_dict[sample_inputs] = np.array(current_price).reshape(1,1)\n",
    "\n",
    "        # Make predictions for this many steps\n",
    "        # Each prediction uses previous prediciton as it's current input\n",
    "        for pred_i in range(n_predict_once):\n",
    "\n",
    "          pred = session.run(sample_prediction,feed_dict=feed_dict)\n",
    "\n",
    "          our_predictions.append(np.asscalar(pred))\n",
    "\n",
    "          feed_dict[sample_inputs] = np.asarray(pred).reshape(-1,1)\n",
    "\n",
    "          if (ep+1)-valid_summary==0:\n",
    "            # Only calculate x_axis values in the first validation epoch\n",
    "            x_axis.append(w_i+pred_i)\n",
    "\n",
    "          mse_test_loss += 0.5*(pred-all_mid_data[w_i+pred_i])**2\n",
    "\n",
    "        session.run(reset_sample_states)\n",
    "\n",
    "        predictions_seq.append(np.array(our_predictions))\n",
    "\n",
    "        mse_test_loss /= n_predict_once\n",
    "        mse_test_loss_seq.append(mse_test_loss)\n",
    "\n",
    "        if (ep+1)-valid_summary==0:\n",
    "          x_axis_seq.append(x_axis)\n",
    "\n",
    "      current_test_mse = np.mean(mse_test_loss_seq)\n",
    "\n",
    "      # Learning rate decay logic\n",
    "      if len(test_mse_ot)>0 and current_test_mse > min(test_mse_ot):\n",
    "          loss_nondecrease_count += 1\n",
    "      else:\n",
    "          loss_nondecrease_count = 0\n",
    "\n",
    "      if loss_nondecrease_count > loss_nondecrease_threshold :\n",
    "            session.run(inc_gstep)\n",
    "            loss_nondecrease_count = 0\n",
    "            print('\\tDecreasing learning rate by 0.5')\n",
    "    \n",
    "      test_mse_ot.append(current_test_mse)\n",
    "      print('\\tTest MSE: %.5f'%np.mean(mse_test_loss_seq))\n",
    "      predictions_over_time.append(predictions_seq)\n",
    "      print('\\tFinished Predictions')\n",
    "#     session.close()"
   ]
  },
  {
   "cell_type": "code",
   "execution_count": null,
   "metadata": {},
   "outputs": [],
   "source": [
    "best_prediction_epoch = 28 # replace this with the epoch that you got the best results when running the plotting code\n",
    "\n",
    "plt.figure(figsize = (18,18))\n",
    "plt.subplot(2,1,1)\n",
    "plt.plot(range(m4_windows.shape[0]),all_mid_data,color='b')\n",
    "\n",
    "# Plotting how the predictions change over time\n",
    "# Plot older predictions with low alpha and newer predictions with high alpha\n",
    "start_alpha = 0.25\n",
    "alpha  = np.arange(start_alpha,1.1,(1.0-start_alpha)/len(predictions_over_time[::3]))\n",
    "for p_i,p in enumerate(predictions_over_time[::3]):\n",
    "    for xval,yval in zip(x_axis_seq,p):\n",
    "        plt.plot(xval,yval,color='r',alpha=alpha[p_i])\n",
    "\n",
    "plt.title('Evolution of Test Predictions Over Time',fontsize=18)\n",
    "plt.xlabel('Date',fontsize=18)\n",
    "plt.ylabel('Price',fontsize=18)\n",
    "plt.xlim(1100,1250)\n",
    "\n",
    "plt.subplot(2,1,2)\n",
    "\n",
    "# Predicting the best test prediction you got\n",
    "plt.plot(range(m4_windows.shape[0]),all_mid_data,color='b')\n",
    "for xval,yval in zip(x_axis_seq,predictions_over_time[best_prediction_epoch]):\n",
    "    plt.plot(xval,yval,color='r')\n",
    "\n",
    "plt.title('Best Test Predictions Over Time',fontsize=18)\n",
    "plt.xlabel('Date',fontsize=18)\n",
    "plt.ylabel('Price',fontsize=18)\n",
    "plt.xlim(1100,1250)\n",
    "plt.show()"
   ]
  },
  {
   "cell_type": "code",
   "execution_count": null,
   "metadata": {},
   "outputs": [],
   "source": []
  },
  {
   "cell_type": "code",
   "execution_count": null,
   "metadata": {},
   "outputs": [],
   "source": []
  },
  {
   "cell_type": "code",
   "execution_count": null,
   "metadata": {},
   "outputs": [],
   "source": []
  },
  {
   "cell_type": "code",
   "execution_count": null,
   "metadata": {},
   "outputs": [],
   "source": []
  },
  {
   "cell_type": "code",
   "execution_count": null,
   "metadata": {},
   "outputs": [],
   "source": []
  },
  {
   "cell_type": "code",
   "execution_count": null,
   "metadata": {},
   "outputs": [],
   "source": []
  },
  {
   "cell_type": "code",
   "execution_count": null,
   "metadata": {},
   "outputs": [],
   "source": []
  },
  {
   "cell_type": "markdown",
   "metadata": {},
   "source": [
    "# ANOTHER METHODS APPROACHABLE"
   ]
  },
  {
   "cell_type": "code",
   "execution_count": 61,
   "metadata": {},
   "outputs": [
    {
     "name": "stdout",
     "output_type": "stream",
     "text": [
      "   var1(t-1)  var2(t-1)  var3(t-1)  var4(t-1)  var5(t-1)  var6(t-1)  \\\n",
      "1   0.009087   0.032663   0.118110        0.0   0.617647   0.034411   \n",
      "2   0.001032   0.001921   0.023622        0.0   0.132353   0.003196   \n",
      "3   0.001032   0.001921   0.023622        0.0   0.132353   0.003196   \n",
      "4   0.001032   0.001921   0.023622        0.0   0.132353   0.003196   \n",
      "5   0.001089   0.003971   0.007874        0.0   0.180147   0.004169   \n",
      "\n",
      "   var7(t-1)  var8(t-1)   var1(t)   var2(t)   var3(t)  var4(t)   var5(t)  \\\n",
      "1   0.765625   0.357143  0.001032  0.001921  0.023622      0.0  0.132353   \n",
      "2   0.020833   0.000000  0.001032  0.001921  0.023622      0.0  0.132353   \n",
      "3   0.020833   0.071429  0.001032  0.001921  0.023622      0.0  0.132353   \n",
      "4   0.020833   0.214286  0.001089  0.003971  0.007874      0.0  0.180147   \n",
      "5   0.770833   0.857143  0.036481  0.196618  0.748031      0.0  0.922794   \n",
      "\n",
      "    var6(t)   var7(t)   var8(t)  \n",
      "1  0.003196  0.020833  0.000000  \n",
      "2  0.003196  0.020833  0.071429  \n",
      "3  0.003196  0.020833  0.214286  \n",
      "4  0.004169  0.770833  0.857143  \n",
      "5  0.198162  0.708333  0.357143  \n"
     ]
    }
   ],
   "source": [
    "from sklearn.preprocessing import LabelEncoder\n",
    "from sklearn.preprocessing import MinMaxScaler\n",
    "# load dataset\n",
    "test_lin_1 = test_lin[['Timestamp', 'Price_Linux/UNIX', 'Memory', 'vCPUs', 'GPUs',\n",
    "                       'Cost_linux_ondemand', 'Cost_linux_reserved', 'InstanceType_code',\n",
    "                       'AvailabilityZone_code']]\n",
    "dataset = test_lin_1.set_index('Timestamp')\n",
    "# dataset = read_csv('pollution.csv', header=0, index_col=0)\n",
    "values = dataset.values\n",
    "# integer encode direction\n",
    "encoder = LabelEncoder()\n",
    "values[:,4] = encoder.fit_transform(values[:,4])\n",
    "# ensure all data is float\n",
    "values = values.astype('float32')\n",
    "# normalize features\n",
    "scaler = MinMaxScaler(feature_range=(0, 1))\n",
    "scaled = scaler.fit_transform(values)\n",
    "# frame as supervised learning\n",
    "reframed = series_to_supervised(scaled, 1, 1)\n",
    "# drop columns we don't want to predict\n",
    "# reframed.drop(reframed.columns[[9,10,11,12,13,14,15]], axis=1, inplace=True)\n",
    "print(reframed.head())"
   ]
  },
  {
   "cell_type": "code",
   "execution_count": 64,
   "metadata": {},
   "outputs": [
    {
     "name": "stdout",
     "output_type": "stream",
     "text": [
      "(72, 1, 15) (72,) (260788, 1, 15) (260788,)\n"
     ]
    }
   ],
   "source": [
    "# split into train and test sets\n",
    "values = reframed.values\n",
    "n_train_hours = 365 * 24 #change this to change train and test dataset\n",
    "train = values[:n_train_hours, :]\n",
    "test = values[n_train_hours:, :]\n",
    "# split into input and outputs\n",
    "train_X, train_y = train[:, :-1], train[:, -1]\n",
    "test_X, test_y = test[:, :-1], test[:, -1]\n",
    "# reshape input to be 3D [samples, timesteps, features]\n",
    "train_X = train_X.reshape((train_X.shape[0], 1, train_X.shape[1]))\n",
    "test_X = test_X.reshape((test_X.shape[0], 1, test_X.shape[1]))\n",
    "print(train_X.shape, train_y.shape, test_X.shape, test_y.shape)"
   ]
  },
  {
   "cell_type": "code",
   "execution_count": null,
   "metadata": {},
   "outputs": [
    {
     "name": "stdout",
     "output_type": "stream",
     "text": [
      "WARNING:tensorflow:From /Users/Yejur/anaconda3/lib/python3.7/site-packages/tensorflow/python/framework/op_def_library.py:263: colocate_with (from tensorflow.python.framework.ops) is deprecated and will be removed in a future version.\n",
      "Instructions for updating:\n",
      "Colocations handled automatically by placer.\n",
      "WARNING:tensorflow:From /Users/Yejur/anaconda3/lib/python3.7/site-packages/tensorflow/python/ops/math_ops.py:3066: to_int32 (from tensorflow.python.ops.math_ops) is deprecated and will be removed in a future version.\n",
      "Instructions for updating:\n",
      "Use tf.cast instead.\n",
      "Train on 17520 samples, validate on 243340 samples\n",
      "Epoch 1/50\n"
     ]
    }
   ],
   "source": [
    "# design network\n",
    "# from keras.utils.visualize_util import to_graph\n",
    "from keras.models import Sequential\n",
    "from keras.layers.core import Dense, Dropout\n",
    "from keras.layers.recurrent import LSTM\n",
    "\n",
    "model = Sequential()\n",
    "model.add(LSTM(50, input_shape=(train_X.shape[1], train_X.shape[2])))\n",
    "model.add(Dense(1))\n",
    "model.compile(loss='mae', optimizer='adam')\n",
    "# fit network\n",
    "history = model.fit(train_X, train_y, epochs=50, batch_size=72, validation_data=(test_X, test_y), verbose=2, shuffle=False)\n",
    "# plot history\n",
    "pyplot.plot(history.history['loss'], label='train')\n",
    "pyplot.plot(history.history['val_loss'], label='test')\n",
    "pyplot.legend()\n",
    "pyplot.show()"
   ]
  },
  {
   "cell_type": "code",
   "execution_count": null,
   "metadata": {},
   "outputs": [],
   "source": [
    "# make a prediction\n",
    "yhat = model.predict(test_X)\n",
    "test_X = test_X.reshape((test_X.shape[0], test_X.shape[2]))\n",
    "# invert scaling for forecast\n",
    "inv_yhat = concatenate((yhat, test_X[:, 1:]), axis=1)\n",
    "inv_yhat = scaler.inverse_transform(inv_yhat)\n",
    "inv_yhat = inv_yhat[:,0]\n",
    "# invert scaling for actual\n",
    "test_y = test_y.reshape((len(test_y), 1))\n",
    "inv_y = concatenate((test_y, test_X[:, 1:]), axis=1)\n",
    "inv_y = scaler.inverse_transform(inv_y)\n",
    "inv_y = inv_y[:,0]\n",
    "# calculate RMSE\n",
    "rmse = sqrt(mean_squared_error(inv_y, inv_yhat))\n",
    "print('Test RMSE: %.3f' % rmse)"
   ]
  },
  {
   "cell_type": "code",
   "execution_count": null,
   "metadata": {},
   "outputs": [],
   "source": []
  },
  {
   "cell_type": "code",
   "execution_count": null,
   "metadata": {},
   "outputs": [],
   "source": []
  },
  {
   "cell_type": "code",
   "execution_count": null,
   "metadata": {},
   "outputs": [],
   "source": []
  },
  {
   "cell_type": "code",
   "execution_count": null,
   "metadata": {},
   "outputs": [],
   "source": []
  },
  {
   "cell_type": "code",
   "execution_count": null,
   "metadata": {},
   "outputs": [],
   "source": [
    "# load dataset\n",
    "dataset = test_lin.copy()\n",
    "values = dataset.values\n",
    "# specify columns to plot\n",
    "groups = [3]\n",
    "i = 1\n",
    "# plot each column\n",
    "plt.figure()\n",
    "for group in groups:\n",
    "    plt.subplot(len(groups), 1, i)\n",
    "    plt.plot(values[:, group])\n",
    "    plt.title(dataset.columns[group], y=0.5, loc='right')\n",
    "    i += 1\n",
    "plt.show()"
   ]
  },
  {
   "cell_type": "code",
   "execution_count": null,
   "metadata": {},
   "outputs": [],
   "source": []
  },
  {
   "cell_type": "code",
   "execution_count": null,
   "metadata": {},
   "outputs": [],
   "source": []
  },
  {
   "cell_type": "code",
   "execution_count": null,
   "metadata": {},
   "outputs": [],
   "source": []
  },
  {
   "cell_type": "markdown",
   "metadata": {},
   "source": [
    "# WEB SCRAPING MAYBE FOR LATER"
   ]
  },
  {
   "cell_type": "code",
   "execution_count": null,
   "metadata": {},
   "outputs": [],
   "source": [
    "# import boto3\n",
    "# client = boto3.client('ec2', region_name='us-west-2', aws_access_key_id='',aws_secret_access_key='')\n",
    "\n",
    "# regions = [x[\"RegionName\"] for x in client.describe_regions()[\"Regions\"]]\n",
    "\n",
    "# INSTANCE = ['p2.xlarge','c3.8xlarge','m4.2xlarge']\n",
    "# print(\"Instance: %s\" % INSTANCE)\n",
    "\n",
    "# results = []\n",
    "\n",
    "# for region in regions:\n",
    "#     prices = client.describe_spot_price_history(\n",
    "#         InstanceTypes=INSTANCE,\n",
    "#         ProductDescriptions=['Linux/UNIX', 'Windows'],\n",
    "#         StartTime=(datetime.datetime.now() - datetime.timedelta(days=90)).isoformat(),\n",
    "#         MaxResults=123\n",
    "#     )\n",
    "\n",
    "#     for price in prices[\"SpotPriceHistory\"]:\n",
    "#         results.append((price[\"AvailabilityZone\"], price[\"SpotPrice\"],price['InstanceType'], price['ProductDescription'], price['Timestamp']))\n",
    "\n",
    "        \n",
    "# # 3 regions (us-east-1, us-west-2, eu-west-1)\n",
    "# # 10 types of instances\n",
    "# # 2 OS\n",
    "\n"
   ]
  },
  {
   "cell_type": "code",
   "execution_count": null,
   "metadata": {},
   "outputs": [],
   "source": [
    "# test = pd.DataFrame(results)\n",
    "# cols = ['AvailabilityZone','SpotPrice','InstanceType','ProductDescription','Timestamp']\n",
    "# test.columns = cols"
   ]
  },
  {
   "cell_type": "code",
   "execution_count": null,
   "metadata": {},
   "outputs": [],
   "source": [
    "# test.head()"
   ]
  },
  {
   "cell_type": "markdown",
   "metadata": {},
   "source": []
  },
  {
   "cell_type": "code",
   "execution_count": null,
   "metadata": {},
   "outputs": [],
   "source": []
  }
 ],
 "metadata": {
  "kernelspec": {
   "display_name": "Python 3",
   "language": "python",
   "name": "python3"
  },
  "language_info": {
   "codemirror_mode": {
    "name": "ipython",
    "version": 3
   },
   "file_extension": ".py",
   "mimetype": "text/x-python",
   "name": "python",
   "nbconvert_exporter": "python",
   "pygments_lexer": "ipython3",
   "version": "3.7.3"
  }
 },
 "nbformat": 4,
 "nbformat_minor": 2
}
