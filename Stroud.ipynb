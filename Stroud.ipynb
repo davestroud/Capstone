{
 "cells": [
  {
   "cell_type": "code",
   "execution_count": 1,
   "metadata": {},
   "outputs": [],
   "source": [
    "import numpy as np\n",
    "import pandas as pd\n",
    "from io import StringIO\n",
    "import requests\n",
    "import matplotlib.pyplot as plt\n",
    "from datetime import datetime"
   ]
  },
  {
   "cell_type": "code",
   "execution_count": 2,
   "metadata": {},
   "outputs": [
    {
     "name": "stdout",
     "output_type": "stream",
     "text": [
      "CPU times: user 4 µs, sys: 0 ns, total: 4 µs\n",
      "Wall time: 7.87 µs\n"
     ]
    }
   ],
   "source": [
    "%time\n",
    "url=\"https://s3-us-west-2.amazonaws.com/aws-spot-prices/SpotPrices/ap-northeast-1.csv\"\n",
    "s=requests.get(url).text\n",
    "nw_data=pd.read_csv(StringIO(s), low_memory=False, header=None)"
   ]
  },
  {
   "cell_type": "code",
   "execution_count": 3,
   "metadata": {},
   "outputs": [
    {
     "data": {
      "text/html": [
       "<div>\n",
       "<style scoped>\n",
       "    .dataframe tbody tr th:only-of-type {\n",
       "        vertical-align: middle;\n",
       "    }\n",
       "\n",
       "    .dataframe tbody tr th {\n",
       "        vertical-align: top;\n",
       "    }\n",
       "\n",
       "    .dataframe thead th {\n",
       "        text-align: right;\n",
       "    }\n",
       "</style>\n",
       "<table border=\"1\" class=\"dataframe\">\n",
       "  <thead>\n",
       "    <tr style=\"text-align: right;\">\n",
       "      <th></th>\n",
       "      <th>0</th>\n",
       "      <th>1</th>\n",
       "      <th>2</th>\n",
       "      <th>3</th>\n",
       "      <th>4</th>\n",
       "    </tr>\n",
       "  </thead>\n",
       "  <tbody>\n",
       "    <tr>\n",
       "      <th>0</th>\n",
       "      <td>2017-05-08 21:46:36+00:00</td>\n",
       "      <td>c3.8xlarge</td>\n",
       "      <td>Windows</td>\n",
       "      <td>ap-northeast-1a</td>\n",
       "      <td>1.6503</td>\n",
       "    </tr>\n",
       "    <tr>\n",
       "      <th>1</th>\n",
       "      <td>2017-05-08 21:46:36+00:00</td>\n",
       "      <td>c3.8xlarge</td>\n",
       "      <td>Windows</td>\n",
       "      <td>ap-northeast-1c</td>\n",
       "      <td>1.7461</td>\n",
       "    </tr>\n",
       "    <tr>\n",
       "      <th>2</th>\n",
       "      <td>2017-05-08 21:46:34+00:00</td>\n",
       "      <td>i3.large</td>\n",
       "      <td>SUSE Linux</td>\n",
       "      <td>ap-northeast-1c</td>\n",
       "      <td>0.1223</td>\n",
       "    </tr>\n",
       "    <tr>\n",
       "      <th>3</th>\n",
       "      <td>2017-05-08 21:46:34+00:00</td>\n",
       "      <td>i3.large</td>\n",
       "      <td>Linux/UNIX</td>\n",
       "      <td>ap-northeast-1c</td>\n",
       "      <td>0.0223</td>\n",
       "    </tr>\n",
       "    <tr>\n",
       "      <th>4</th>\n",
       "      <td>2017-05-08 21:46:17+00:00</td>\n",
       "      <td>c4.8xlarge</td>\n",
       "      <td>SUSE Linux</td>\n",
       "      <td>ap-northeast-1a</td>\n",
       "      <td>0.7890</td>\n",
       "    </tr>\n",
       "  </tbody>\n",
       "</table>\n",
       "</div>"
      ],
      "text/plain": [
       "                           0           1           2                3       4\n",
       "0  2017-05-08 21:46:36+00:00  c3.8xlarge     Windows  ap-northeast-1a  1.6503\n",
       "1  2017-05-08 21:46:36+00:00  c3.8xlarge     Windows  ap-northeast-1c  1.7461\n",
       "2  2017-05-08 21:46:34+00:00    i3.large  SUSE Linux  ap-northeast-1c  0.1223\n",
       "3  2017-05-08 21:46:34+00:00    i3.large  Linux/UNIX  ap-northeast-1c  0.0223\n",
       "4  2017-05-08 21:46:17+00:00  c4.8xlarge  SUSE Linux  ap-northeast-1a  0.7890"
      ]
     },
     "execution_count": 3,
     "metadata": {},
     "output_type": "execute_result"
    }
   ],
   "source": [
    "nw_data.head()"
   ]
  },
  {
   "cell_type": "code",
   "execution_count": 4,
   "metadata": {},
   "outputs": [],
   "source": [
    "nw_data.columns = ['Date_Time', 'Instance', 'OS', 'Region', 'Spot_Price']"
   ]
  },
  {
   "cell_type": "code",
   "execution_count": 5,
   "metadata": {},
   "outputs": [
    {
     "data": {
      "text/html": [
       "<div>\n",
       "<style scoped>\n",
       "    .dataframe tbody tr th:only-of-type {\n",
       "        vertical-align: middle;\n",
       "    }\n",
       "\n",
       "    .dataframe tbody tr th {\n",
       "        vertical-align: top;\n",
       "    }\n",
       "\n",
       "    .dataframe thead th {\n",
       "        text-align: right;\n",
       "    }\n",
       "</style>\n",
       "<table border=\"1\" class=\"dataframe\">\n",
       "  <thead>\n",
       "    <tr style=\"text-align: right;\">\n",
       "      <th></th>\n",
       "      <th>Date_Time</th>\n",
       "      <th>Instance</th>\n",
       "      <th>OS</th>\n",
       "      <th>Region</th>\n",
       "      <th>Spot_Price</th>\n",
       "    </tr>\n",
       "  </thead>\n",
       "  <tbody>\n",
       "    <tr>\n",
       "      <th>0</th>\n",
       "      <td>2017-05-08 21:46:36+00:00</td>\n",
       "      <td>c3.8xlarge</td>\n",
       "      <td>Windows</td>\n",
       "      <td>ap-northeast-1a</td>\n",
       "      <td>1.6503</td>\n",
       "    </tr>\n",
       "    <tr>\n",
       "      <th>1</th>\n",
       "      <td>2017-05-08 21:46:36+00:00</td>\n",
       "      <td>c3.8xlarge</td>\n",
       "      <td>Windows</td>\n",
       "      <td>ap-northeast-1c</td>\n",
       "      <td>1.7461</td>\n",
       "    </tr>\n",
       "    <tr>\n",
       "      <th>2</th>\n",
       "      <td>2017-05-08 21:46:34+00:00</td>\n",
       "      <td>i3.large</td>\n",
       "      <td>SUSE Linux</td>\n",
       "      <td>ap-northeast-1c</td>\n",
       "      <td>0.1223</td>\n",
       "    </tr>\n",
       "    <tr>\n",
       "      <th>3</th>\n",
       "      <td>2017-05-08 21:46:34+00:00</td>\n",
       "      <td>i3.large</td>\n",
       "      <td>Linux/UNIX</td>\n",
       "      <td>ap-northeast-1c</td>\n",
       "      <td>0.0223</td>\n",
       "    </tr>\n",
       "    <tr>\n",
       "      <th>4</th>\n",
       "      <td>2017-05-08 21:46:17+00:00</td>\n",
       "      <td>c4.8xlarge</td>\n",
       "      <td>SUSE Linux</td>\n",
       "      <td>ap-northeast-1a</td>\n",
       "      <td>0.7890</td>\n",
       "    </tr>\n",
       "  </tbody>\n",
       "</table>\n",
       "</div>"
      ],
      "text/plain": [
       "                   Date_Time    Instance          OS           Region  \\\n",
       "0  2017-05-08 21:46:36+00:00  c3.8xlarge     Windows  ap-northeast-1a   \n",
       "1  2017-05-08 21:46:36+00:00  c3.8xlarge     Windows  ap-northeast-1c   \n",
       "2  2017-05-08 21:46:34+00:00    i3.large  SUSE Linux  ap-northeast-1c   \n",
       "3  2017-05-08 21:46:34+00:00    i3.large  Linux/UNIX  ap-northeast-1c   \n",
       "4  2017-05-08 21:46:17+00:00  c4.8xlarge  SUSE Linux  ap-northeast-1a   \n",
       "\n",
       "   Spot_Price  \n",
       "0      1.6503  \n",
       "1      1.7461  \n",
       "2      0.1223  \n",
       "3      0.0223  \n",
       "4      0.7890  "
      ]
     },
     "execution_count": 5,
     "metadata": {},
     "output_type": "execute_result"
    }
   ],
   "source": [
    "nw_data.head()"
   ]
  },
  {
   "cell_type": "code",
   "execution_count": null,
   "metadata": {},
   "outputs": [],
   "source": []
  }
 ],
 "metadata": {
  "kernelspec": {
   "display_name": "Python 3",
   "language": "python",
   "name": "python3"
  },
  "language_info": {
   "codemirror_mode": {
    "name": "ipython",
    "version": 3
   },
   "file_extension": ".py",
   "mimetype": "text/x-python",
   "name": "python",
   "nbconvert_exporter": "python",
   "pygments_lexer": "ipython3",
   "version": "3.6.8"
  }
 },
 "nbformat": 4,
 "nbformat_minor": 2
}
